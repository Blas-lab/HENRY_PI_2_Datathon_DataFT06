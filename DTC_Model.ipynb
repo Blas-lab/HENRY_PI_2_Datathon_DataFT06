{
 "cells": [
  {
   "cell_type": "code",
   "execution_count": 1,
   "metadata": {},
   "outputs": [],
   "source": [
    "# Import the necessary libraries\n",
    "from sklearn.tree import DecisionTreeClassifier\n",
    "from sklearn.metrics import mean_absolute_error\n",
    "from sklearn.model_selection import train_test_split\n",
    "import pandas as pd"
   ]
  },
  {
   "attachments": {},
   "cell_type": "markdown",
   "metadata": {},
   "source": [
    "# Load data"
   ]
  },
  {
   "cell_type": "code",
   "execution_count": 2,
   "metadata": {},
   "outputs": [],
   "source": [
    "# Load the data into a DataFrame\n",
    "df = pd.read_csv('./Clean_files/train_clean.csv')"
   ]
  },
  {
   "attachments": {},
   "cell_type": "markdown",
   "metadata": {},
   "source": [
    "# Features Creation:"
   ]
  },
  {
   "attachments": {},
   "cell_type": "markdown",
   "metadata": {},
   "source": [
    "## Feature new colum \"pet_allowed\" as a mean between \"cats_allowed\" & \"dogs_allowed\""
   ]
  },
  {
   "cell_type": "code",
   "execution_count": 3,
   "metadata": {},
   "outputs": [],
   "source": [
    "df['pets_allowed'] = df[['cats_allowed', 'dogs_allowed']].mean(axis=1)"
   ]
  },
  {
   "attachments": {},
   "cell_type": "markdown",
   "metadata": {},
   "source": [
    "# Drop the original columns"
   ]
  },
  {
   "cell_type": "code",
   "execution_count": 4,
   "metadata": {},
   "outputs": [],
   "source": [
    "df = df.drop(['cats_allowed', 'dogs_allowed'], axis=1)"
   ]
  },
  {
   "attachments": {},
   "cell_type": "markdown",
   "metadata": {},
   "source": [
    "# Outlier normalization"
   ]
  },
  {
   "cell_type": "code",
   "execution_count": 5,
   "metadata": {},
   "outputs": [],
   "source": [
    "# Define the columns to check for outliers\n",
    "cols_to_check = ['sqfeet', 'beds', 'baths', 'region_encoded', 'type_encoded', 'parking_options_encoded', 'state_encoded']\n",
    "\n",
    "# Define the threshold for outliers\n",
    "threshold = 3\n",
    "\n",
    "# Iterate through the columns and remove outliers\n",
    "for col in cols_to_check:\n",
    "    mean = df[col].mean()\n",
    "    std = df[col].std()\n",
    "    df = df[(df[col] < mean + threshold*std) & (df[col] > mean - threshold*std)]\n",
    "\n",
    "# Reset the index\n",
    "df.reset_index(inplace=True, drop=True)"
   ]
  },
  {
   "attachments": {},
   "cell_type": "markdown",
   "metadata": {},
   "source": [
    "# Model Training"
   ]
  },
  {
   "attachments": {},
   "cell_type": "markdown",
   "metadata": {},
   "source": [
    "# Features:\n",
    "## Included: ['sqfeet', 'beds', 'baths', 'pets_allowed', 'smoking_allowed', 'electric_vehicle_charge', 'comes_furnished', 'lat', 'long', 'region_encoded', 'type_encoded', 'laundry_options_encoded', 'parking_options_encoded', 'state_encoded']\n",
    "## Excluded:[ 'wheelchair_access',]"
   ]
  },
  {
   "cell_type": "code",
   "execution_count": 6,
   "metadata": {},
   "outputs": [
    {
     "name": "stdout",
     "output_type": "stream",
     "text": [
      "Mean Absolute Error: 0.17882600763602852\n"
     ]
    }
   ],
   "source": [
    "# Define the features and target variables\n",
    "cols_to_use = ['sqfeet', 'beds', 'baths', 'pets_allowed', 'smoking_allowed', 'laundry_options_encoded', 'electric_vehicle_charge', 'comes_furnished', 'region_encoded', 'type_encoded', 'laundry_options_encoded', 'parking_options_encoded', 'state_encoded']\n",
    "X = df[cols_to_use]\n",
    "y = df['price_scale']\n",
    "\n",
    "\n",
    "# Split the data into training and test sets\n",
    "X_train, X_test, y_train, y_test = train_test_split(X, y, test_size=0.8, random_state=42)\n",
    "\n",
    "# Create a Decision Tree Classifier\n",
    "dt = DecisionTreeClassifier(random_state=42)\n",
    "\n",
    "# Fit the model to the training data\n",
    "dt.fit(X_train, y_train)\n",
    "\n",
    "# Make predictions on the test set\n",
    "y_pred = dt.predict(X_test)\n",
    "\n",
    "# Calculate the mean absolute error of the model\n",
    "mae = mean_absolute_error(y_test, y_pred)\n",
    "print(\"Mean Absolute Error:\", mae)\n",
    "\n",
    "# Use the model to make predictions on the entire dataset\n",
    "df_predictions = df.copy()\n",
    "df_predictions['price_scale_predicted'] = dt.predict(df[cols_to_use])\n",
    "df_predictions.to_csv('./Predictions_sup/prediction_dt.csv', index=False)"
   ]
  },
  {
   "attachments": {},
   "cell_type": "markdown",
   "metadata": {},
   "source": [
    "# Check df"
   ]
  },
  {
   "cell_type": "code",
   "execution_count": 7,
   "metadata": {},
   "outputs": [
    {
     "name": "stdout",
     "output_type": "stream",
     "text": [
      "        sqfeet  beds  baths  smoking_allowed  wheelchair_access  \\\n",
      "0         1200     2    2.0                1                  0   \n",
      "1          694     1    1.0                1                  0   \n",
      "2          900     2    2.0                1                  0   \n",
      "3         1469     3    2.0                1                  0   \n",
      "4          700     1    1.0                1                  0   \n",
      "...        ...   ...    ...              ...                ...   \n",
      "132917     720     1    1.0                1                  0   \n",
      "132918     562     1    1.0                1                  0   \n",
      "132919     896     1    1.0                1                  0   \n",
      "132920    1099     2    2.0                1                  0   \n",
      "132921    1350     2    2.0                1                  0   \n",
      "\n",
      "        electric_vehicle_charge  comes_furnished      lat      long  \\\n",
      "0                             0                0  43.5851 -116.2250   \n",
      "1                             0                0  38.9137 -104.7800   \n",
      "2                             0                0  36.7922  -76.1643   \n",
      "3                             0                0  33.5623 -112.0560   \n",
      "4                             0                0  36.0595  -86.6592   \n",
      "...                         ...              ...      ...       ...   \n",
      "132917                        0                0  26.1467  -80.2433   \n",
      "132918                        0                0  39.7824  -84.0271   \n",
      "132919                        0                0  42.3431  -71.1230   \n",
      "132920                        0                0  32.6279 -117.0370   \n",
      "132921                        0                0  42.8997  -78.8803   \n",
      "\n",
      "        price_scale  region_encoded  type_encoded  laundry_options_encoded  \\\n",
      "0                 0               0             0                        0   \n",
      "1                 0               1             1                        0   \n",
      "2                 0               2             1                        1   \n",
      "3                 0               3             0                        0   \n",
      "4                 1               4             1                        0   \n",
      "...             ...             ...           ...                      ...   \n",
      "132917            0             124             1                        3   \n",
      "132918            1              47             1                        2   \n",
      "132919            0             165             1                        0   \n",
      "132920            0              60             1                        0   \n",
      "132921            0             177             1                        0   \n",
      "\n",
      "        parking_options_encoded  state_encoded  pets_allowed  \n",
      "0                             0              0           1.0  \n",
      "1                             1              1           1.0  \n",
      "2                             2              2           0.0  \n",
      "3                             3              3           1.0  \n",
      "4                             1              4           1.0  \n",
      "...                         ...            ...           ...  \n",
      "132917                        3             21           0.0  \n",
      "132918                        2             29           1.0  \n",
      "132919                        3              6           0.0  \n",
      "132920                        2             16           1.0  \n",
      "132921                        2             27           0.5  \n",
      "\n",
      "[132922 rows x 16 columns]\n"
     ]
    }
   ],
   "source": [
    "print(df)"
   ]
  },
  {
   "attachments": {},
   "cell_type": "markdown",
   "metadata": {},
   "source": [
    "# Model Testing with \"test_clean.csv\""
   ]
  },
  {
   "cell_type": "code",
   "execution_count": 8,
   "metadata": {},
   "outputs": [
    {
     "name": "stderr",
     "output_type": "stream",
     "text": [
      "c:\\Users\\miauchis\\AppData\\Local\\Programs\\Python\\Python310\\lib\\site-packages\\sklearn\\base.py:420: UserWarning: X does not have valid feature names, but DecisionTreeClassifier was fitted with feature names\n",
      "  warnings.warn(\n"
     ]
    }
   ],
   "source": [
    "# Load the test data into a DataFrame\n",
    "df_test = pd.read_csv('./Clean_files/test_clean.csv')\n",
    "\n",
    "# Feture pets\n",
    "df_test['pets_allowed'] = df_test[['cats_allowed', 'dogs_allowed']].mean(axis=1)\n",
    "df_test = df_test.drop(['cats_allowed', 'dogs_allowed'], axis=1)\n",
    "\n",
    "# Use the same columns that were used for training\n",
    "X_test_data = df_test[cols_to_use]\n",
    "\n",
    "# import SimpleImputer class\n",
    "from sklearn.impute import SimpleImputer\n",
    "\n",
    "# Create an imputer object\n",
    "imputer = SimpleImputer(strategy='mean')\n",
    "\n",
    "# Fit the imputer to the training data\n",
    "imputer.fit(X_train)\n",
    "\n",
    "# Transform the test data using the imputer\n",
    "X_test_imputed = imputer.transform(X_test_data)\n",
    "\n",
    "# Make predictions on the test data\n",
    "y_pred_test = dt.predict(X_test_imputed)\n",
    "\n",
    "# Add the predicted values to the test data DataFrame\n",
    "df_test['price_scale_predicted'] = y_pred_test\n",
    "\n",
    "# Export the predictions to a CSV file\n",
    "df_test.to_csv('./Predictions_sup/test_dtc_prediction.csv', index=False)\n"
   ]
  },
  {
   "cell_type": "code",
   "execution_count": 9,
   "metadata": {},
   "outputs": [],
   "source": [
    "# Load the predictions from test_dtc_prediction.csv into a DataFrame\n",
    "df_test_predictions = pd.read_csv('./Predictions_sup/test_dtc_prediction.csv')\n",
    "\n",
    "# Create a new DataFrame with only the 'price_scale_predicted' column\n",
    "df_final_format = df_test_predictions[['price_scale_predicted']]\n",
    "\n",
    "# Export the final format DataFrame to a CSV file\n",
    "df_final_format.to_csv('./Predictions_sup/final_format.csv', index=False, header=False)"
   ]
  }
 ],
 "metadata": {
  "kernelspec": {
   "display_name": "Python 3",
   "language": "python",
   "name": "python3"
  },
  "language_info": {
   "codemirror_mode": {
    "name": "ipython",
    "version": 3
   },
   "file_extension": ".py",
   "mimetype": "text/x-python",
   "name": "python",
   "nbconvert_exporter": "python",
   "pygments_lexer": "ipython3",
   "version": "3.10.8"
  },
  "orig_nbformat": 4,
  "vscode": {
   "interpreter": {
    "hash": "ffda8b6017134b5c6128eec6546762e20742105f4bc29c7c0f871edb66bedab5"
   }
  }
 },
 "nbformat": 4,
 "nbformat_minor": 2
}
