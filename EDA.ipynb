{
 "cells": [
  {
   "cell_type": "code",
   "execution_count": 1,
   "metadata": {},
   "outputs": [],
   "source": [
    "import pandas as pd\n",
    "import matplotlib.pyplot as plt\n",
    "import seaborn as sns\n",
    "import numpy as np\n",
    "import folium"
   ]
  },
  {
   "attachments": {},
   "cell_type": "markdown",
   "metadata": {},
   "source": [
    "# Load the train.parquet file"
   ]
  },
  {
   "cell_type": "code",
   "execution_count": 2,
   "metadata": {},
   "outputs": [],
   "source": [
    "df_train = pd.read_parquet(\"./Dataset_parquet/train.parquet\")"
   ]
  },
  {
   "attachments": {},
   "cell_type": "markdown",
   "metadata": {},
   "source": [
    "# Convert the dataframe to a CSV file"
   ]
  },
  {
   "cell_type": "code",
   "execution_count": 3,
   "metadata": {},
   "outputs": [],
   "source": [
    "df_train.to_csv(\"./Dataset_csv/train.csv\", index=False)"
   ]
  },
  {
   "attachments": {},
   "cell_type": "markdown",
   "metadata": {},
   "source": [
    "# Load the test.parquet file"
   ]
  },
  {
   "cell_type": "code",
   "execution_count": 4,
   "metadata": {},
   "outputs": [],
   "source": [
    "df_test = pd.read_parquet(\"./Dataset_parquet/test.parquet\")"
   ]
  },
  {
   "attachments": {},
   "cell_type": "markdown",
   "metadata": {},
   "source": [
    "# Convert the dataframe to a CSV file"
   ]
  },
  {
   "cell_type": "code",
   "execution_count": 5,
   "metadata": {},
   "outputs": [],
   "source": [
    "df_test.to_csv(\"./Dataset_csv/test.csv\", index=False)"
   ]
  },
  {
   "attachments": {},
   "cell_type": "markdown",
   "metadata": {},
   "source": [
    "# Load the train file"
   ]
  },
  {
   "cell_type": "code",
   "execution_count": 6,
   "metadata": {},
   "outputs": [],
   "source": [
    "df = pd.read_csv(\"./Dataset_csv/train.csv\")"
   ]
  },
  {
   "attachments": {},
   "cell_type": "markdown",
   "metadata": {},
   "source": [
    "# Check for missing values"
   ]
  },
  {
   "cell_type": "code",
   "execution_count": 7,
   "metadata": {},
   "outputs": [
    {
     "name": "stdout",
     "output_type": "stream",
     "text": [
      "id                              0\n",
      "url                             0\n",
      "region                          0\n",
      "region_url                      0\n",
      "price                           0\n",
      "type                            0\n",
      "sqfeet                          0\n",
      "beds                            0\n",
      "baths                           0\n",
      "cats_allowed                    0\n",
      "dogs_allowed                    0\n",
      "smoking_allowed                 0\n",
      "wheelchair_access               0\n",
      "electric_vehicle_charge         0\n",
      "comes_furnished                 0\n",
      "laundry_options             71171\n",
      "parking_options            126682\n",
      "image_url                       0\n",
      "description                     2\n",
      "lat                          1722\n",
      "long                         1722\n",
      "state                           0\n",
      "dtype: int64\n"
     ]
    }
   ],
   "source": [
    "print(df.isnull().sum())"
   ]
  },
  {
   "attachments": {},
   "cell_type": "markdown",
   "metadata": {},
   "source": [
    "# Create a function to assign the price scale based on the price"
   ]
  },
  {
   "cell_type": "code",
   "execution_count": 8,
   "metadata": {},
   "outputs": [
    {
     "data": {
      "text/plain": [
       "\"def assign_price_scale(price):\\n    if price >= 0 and price <= 999:\\n        return 'low'\\n    elif price >= 1000 and price <= 1999:\\n        return 'medium'\\n    elif price >= 2000:\\n        return 'high' \""
      ]
     },
     "execution_count": 8,
     "metadata": {},
     "output_type": "execute_result"
    }
   ],
   "source": [
    "'''def assign_price_scale(price):\n",
    "    if price >= 0 and price <= 999:\n",
    "        return 'low'\n",
    "    elif price >= 1000 and price <= 1999:\n",
    "        return 'medium'\n",
    "    elif price >= 2000:\n",
    "        return 'high' '''"
   ]
  },
  {
   "attachments": {},
   "cell_type": "markdown",
   "metadata": {},
   "source": [
    "# Apply the function to the 'price' column and create a new column 'price_scale'"
   ]
  },
  {
   "cell_type": "code",
   "execution_count": 9,
   "metadata": {},
   "outputs": [
    {
     "data": {
      "text/plain": [
       "\"df['price_scale'] = df['price'].apply(lambda x: assign_price_scale(x))\""
      ]
     },
     "execution_count": 9,
     "metadata": {},
     "output_type": "execute_result"
    }
   ],
   "source": [
    "'''df['price_scale'] = df['price'].apply(lambda x: assign_price_scale(x))'''"
   ]
  },
  {
   "attachments": {},
   "cell_type": "markdown",
   "metadata": {},
   "source": [
    "# Print the first few rows of the dataframe to check if the new column was created correctly"
   ]
  },
  {
   "cell_type": "code",
   "execution_count": 10,
   "metadata": {},
   "outputs": [
    {
     "data": {
      "text/plain": [
       "'print(df.head())'"
      ]
     },
     "execution_count": 10,
     "metadata": {},
     "output_type": "execute_result"
    }
   ],
   "source": [
    "'''print(df.head())'''"
   ]
  },
  {
   "attachments": {},
   "cell_type": "markdown",
   "metadata": {},
   "source": [
    "# MODIFICATION: \n",
    "[https://soyhenry.slack.com/archives/C03UYCDH8NN/p1674509452835809](https://soyhenry.slack.com/archives/C03UYCDH8NN/p1674509452835809)\n",
    "\n",
    "now the scale for \"price_scale\" colum is in the range of low-notlow\n",
    "### NEW RETURN: low = 0, notlow = 1"
   ]
  },
  {
   "attachments": {},
   "cell_type": "markdown",
   "metadata": {},
   "source": [
    "# Create a function to assign the price scale based on the price"
   ]
  },
  {
   "cell_type": "code",
   "execution_count": 11,
   "metadata": {},
   "outputs": [],
   "source": [
    "def assign_price_scale(price):\n",
    "    if price >= 0 and price <= 999:\n",
    "        return 1 # low\n",
    "    else:\n",
    "        return 0 # not low\n"
   ]
  },
  {
   "attachments": {},
   "cell_type": "markdown",
   "metadata": {},
   "source": [
    "# Apply the function to the 'price' column and create a new column 'price_scale'"
   ]
  },
  {
   "cell_type": "code",
   "execution_count": 12,
   "metadata": {},
   "outputs": [],
   "source": [
    "df['price_scale'] = df['price'].apply(lambda x: assign_price_scale(x))"
   ]
  },
  {
   "attachments": {},
   "cell_type": "markdown",
   "metadata": {},
   "source": [
    "# Print the first few rows of the dataframe to check if the new column was created correctly"
   ]
  },
  {
   "cell_type": "code",
   "execution_count": 13,
   "metadata": {},
   "outputs": [
    {
     "name": "stdout",
     "output_type": "stream",
     "text": [
      "           id                                                url  \\\n",
      "0  7048013474  https://boise.craigslist.org/apa/d/very-nice-b...   \n",
      "1  7043931179  https://cosprings.craigslist.org/apa/d/colorad...   \n",
      "2  7048254516  https://norfolk.craigslist.org/apa/d/virginia-...   \n",
      "3  7041032577  https://phoenix.craigslist.org/nph/apa/d/phoen...   \n",
      "4  7048588701  https://nashville.craigslist.org/apa/d/antioch...   \n",
      "\n",
      "                    region                        region_url  price  \\\n",
      "0                    boise      https://boise.craigslist.org   1350   \n",
      "1         colorado springs  https://cosprings.craigslist.org   1115   \n",
      "2  norfolk / hampton roads    https://norfolk.craigslist.org   1129   \n",
      "3                  phoenix    https://phoenix.craigslist.org   1580   \n",
      "4                nashville  https://nashville.craigslist.org    995   \n",
      "\n",
      "        type  sqfeet  beds  baths  cats_allowed  ...  electric_vehicle_charge  \\\n",
      "0      house    1200     2    2.0             1  ...                        0   \n",
      "1  apartment     694     1    1.0             1  ...                        0   \n",
      "2  apartment     900     2    2.0             0  ...                        0   \n",
      "3      house    1469     3    2.0             1  ...                        0   \n",
      "4  apartment     700     1    1.0             1  ...                        0   \n",
      "\n",
      "   comes_furnished  laundry_options     parking_options  \\\n",
      "0                0      w/d in unit     detached garage   \n",
      "1                0      w/d in unit             carport   \n",
      "2                0      w/d hookups  off-street parking   \n",
      "3                0      w/d in unit                 NaN   \n",
      "4                0      w/d in unit             carport   \n",
      "\n",
      "                                           image_url  \\\n",
      "0  https://images.craigslist.org/00B0B_cPiJMEheZe...   \n",
      "1  https://images.craigslist.org/00R0R_5XAoSKvfrz...   \n",
      "2  https://images.craigslist.org/00f0f_3ZbTFrsHpZ...   \n",
      "3  https://images.craigslist.org/00f0f_aXV5Dkd5qk...   \n",
      "4  https://images.craigslist.org/00606_gYOGKClOHv...   \n",
      "\n",
      "                                         description      lat      long state  \\\n",
      "0  Super cute row house in the Boise bench area. ...  43.5851 -116.2250    id   \n",
      "1  Windtree Apartment Homes currently has a spaci...  38.9137 -104.7800    co   \n",
      "2  Call Today!  show contact info   Indian Lakes ...  36.7922  -76.1643    va   \n",
      "3  Cody Anderson Two Brothers Realty License #: S...  33.5623 -112.0560    az   \n",
      "4  To schedule a tour We now book our tour appoin...  36.0595  -86.6592    tn   \n",
      "\n",
      "   price_scale  \n",
      "0            0  \n",
      "1            0  \n",
      "2            0  \n",
      "3            0  \n",
      "4            1  \n",
      "\n",
      "[5 rows x 23 columns]\n"
     ]
    }
   ],
   "source": [
    "print(df.head())"
   ]
  },
  {
   "attachments": {},
   "cell_type": "markdown",
   "metadata": {},
   "source": [
    "# More exploration:\n",
    "## Replacing missing values"
   ]
  },
  {
   "attachments": {},
   "cell_type": "markdown",
   "metadata": {},
   "source": [
    "# Check unique values in 'laundry_options' column"
   ]
  },
  {
   "cell_type": "code",
   "execution_count": 14,
   "metadata": {},
   "outputs": [
    {
     "name": "stdout",
     "output_type": "stream",
     "text": [
      "Unique values in 'laundry_options' column: ['w/d in unit' 'w/d hookups' 'laundry on site' nan 'laundry in bldg'\n",
      " 'no laundry on site']\n"
     ]
    }
   ],
   "source": [
    "print(\"Unique values in 'laundry_options' column:\", df['laundry_options'].unique())"
   ]
  },
  {
   "attachments": {},
   "cell_type": "markdown",
   "metadata": {},
   "source": [
    "# Check unique values in 'parking_options' column"
   ]
  },
  {
   "cell_type": "code",
   "execution_count": 15,
   "metadata": {},
   "outputs": [
    {
     "name": "stdout",
     "output_type": "stream",
     "text": [
      "Unique values in 'parking_options' column: ['detached garage' 'carport' 'off-street parking' nan 'attached garage'\n",
      " 'street parking' 'no parking' 'valet parking']\n"
     ]
    }
   ],
   "source": [
    "print(\"Unique values in 'parking_options' column:\", df['parking_options'].unique())"
   ]
  },
  {
   "attachments": {},
   "cell_type": "markdown",
   "metadata": {},
   "source": [
    "# Strategy:\n",
    "## Replace null in the \"laundry_options\" and \"parking_options\" for \"unknown\" value for further analisys"
   ]
  },
  {
   "attachments": {},
   "cell_type": "markdown",
   "metadata": {},
   "source": [
    "# Replace null values in 'laundry_options' column with 'unknown'"
   ]
  },
  {
   "cell_type": "code",
   "execution_count": 16,
   "metadata": {},
   "outputs": [],
   "source": [
    "df['laundry_options'] = df['laundry_options'].fillna('unknown')"
   ]
  },
  {
   "attachments": {},
   "cell_type": "markdown",
   "metadata": {},
   "source": [
    "# Replace null values in 'parking_options' column with 'unknown'"
   ]
  },
  {
   "cell_type": "code",
   "execution_count": 17,
   "metadata": {},
   "outputs": [],
   "source": [
    "df['parking_options'] = df['parking_options'].fillna('unknown')"
   ]
  },
  {
   "attachments": {},
   "cell_type": "markdown",
   "metadata": {},
   "source": [
    "# Check:"
   ]
  },
  {
   "attachments": {},
   "cell_type": "markdown",
   "metadata": {},
   "source": [
    "# Check if there are any remaining null values in the 'laundry_options' column"
   ]
  },
  {
   "cell_type": "code",
   "execution_count": 18,
   "metadata": {},
   "outputs": [
    {
     "name": "stdout",
     "output_type": "stream",
     "text": [
      "0\n"
     ]
    }
   ],
   "source": [
    "print(df['laundry_options'].isnull().sum())"
   ]
  },
  {
   "attachments": {},
   "cell_type": "markdown",
   "metadata": {},
   "source": [
    "# Check if there are any remaining null values in the 'parking_options' column"
   ]
  },
  {
   "cell_type": "code",
   "execution_count": 19,
   "metadata": {},
   "outputs": [
    {
     "name": "stdout",
     "output_type": "stream",
     "text": [
      "0\n"
     ]
    }
   ],
   "source": [
    "print(df['parking_options'].isnull().sum())"
   ]
  },
  {
   "attachments": {},
   "cell_type": "markdown",
   "metadata": {},
   "source": [
    "# Display rows without gps cordinates"
   ]
  },
  {
   "attachments": {},
   "cell_type": "markdown",
   "metadata": {},
   "source": [
    "# Get the rows with null values in 'lat' and 'long' columns"
   ]
  },
  {
   "cell_type": "code",
   "execution_count": 20,
   "metadata": {},
   "outputs": [],
   "source": [
    "null_lat_long_df = df.loc[(df['lat'].isnull()) & (df['long'].isnull())]"
   ]
  },
  {
   "attachments": {},
   "cell_type": "markdown",
   "metadata": {},
   "source": [
    "# Print the dataframe"
   ]
  },
  {
   "cell_type": "code",
   "execution_count": 21,
   "metadata": {},
   "outputs": [
    {
     "name": "stdout",
     "output_type": "stream",
     "text": [
      "                id                                                url  \\\n",
      "62      7030417516  https://worcester.craigslist.org/apa/d/fabulou...   \n",
      "369     7046724271  https://grandrapids.craigslist.org/apa/d/walk-...   \n",
      "501     7046978803  https://denver.craigslist.org/apa/d/1-months-f...   \n",
      "841     7044475894  https://columbia.craigslist.org/apa/d/view-our...   \n",
      "976     7046827868  https://sarasota.craigslist.org/apa/d/rent-lov...   \n",
      "...            ...                                                ...   \n",
      "345789  7040091805  https://toledo.craigslist.org/apa/d/newly-list...   \n",
      "345847  7033042711  https://huntsville.craigslist.org/apa/d/come-s...   \n",
      "345856  7049041897  https://lubbock.craigslist.org/apa/d/completel...   \n",
      "345995  7043301388  https://sarasota.craigslist.org/apa/d/large-ho...   \n",
      "346110  7044596360  https://panamacity.craigslist.org/apa/d/profes...   \n",
      "\n",
      "                        region                          region_url  price  \\\n",
      "62      worcester / central MA    https://worcester.craigslist.org   1450   \n",
      "369               grand rapids  https://grandrapids.craigslist.org   1165   \n",
      "501                     denver       https://denver.craigslist.org   2456   \n",
      "841                   columbia     https://columbia.craigslist.org    975   \n",
      "976         sarasota-bradenton     https://sarasota.craigslist.org   1800   \n",
      "...                        ...                                 ...    ...   \n",
      "345789                  toledo       https://toledo.craigslist.org    650   \n",
      "345847    huntsville / decatur   https://huntsville.craigslist.org    739   \n",
      "345856                 lubbock      https://lubbock.craigslist.org    606   \n",
      "345995      sarasota-bradenton     https://sarasota.craigslist.org   1800   \n",
      "346110             panama city   https://panamacity.craigslist.org    695   \n",
      "\n",
      "             type  sqfeet  beds  baths  cats_allowed  ...  \\\n",
      "62      townhouse    1100     2    2.0             0  ...   \n",
      "369     apartment     892     2    1.5             1  ...   \n",
      "501     apartment     932     2    2.0             1  ...   \n",
      "841     apartment     964     2    2.0             1  ...   \n",
      "976         house    2300     2    1.0             0  ...   \n",
      "...           ...     ...   ...    ...           ...  ...   \n",
      "345789      house    1624     3    1.0             0  ...   \n",
      "345847  apartment     640     1    1.0             1  ...   \n",
      "345856  apartment     627     1    1.0             0  ...   \n",
      "345995      house    2300     2    1.0             0  ...   \n",
      "346110  apartment    1047     2    2.0             1  ...   \n",
      "\n",
      "        electric_vehicle_charge  comes_furnished  laundry_options  \\\n",
      "62                            0                0      w/d in unit   \n",
      "369                           0                0      w/d hookups   \n",
      "501                           0                0      w/d in unit   \n",
      "841                           0                0      w/d in unit   \n",
      "976                           0                1      w/d hookups   \n",
      "...                         ...              ...              ...   \n",
      "345789                        0                0      w/d hookups   \n",
      "345847                        0                0  laundry in bldg   \n",
      "345856                        0                0          unknown   \n",
      "345995                        0                1      w/d hookups   \n",
      "346110                        0                0      w/d hookups   \n",
      "\n",
      "           parking_options                                          image_url  \\\n",
      "62         attached garage  https://images.craigslist.org/00x0x_fAVcu5GCTQ...   \n",
      "369                unknown  https://images.craigslist.org/00303_beCkh2Surq...   \n",
      "501        attached garage  https://images.craigslist.org/00C0C_6ftesj1piw...   \n",
      "841                unknown  https://images.craigslist.org/01111_5hLMmx4Rdk...   \n",
      "976        attached garage  https://images.craigslist.org/00c0c_4lT5jOKmN7...   \n",
      "...                    ...                                                ...   \n",
      "345789     detached garage  https://images.craigslist.org/01212_8hvuiDxMoS...   \n",
      "345847  off-street parking  https://images.craigslist.org/00h0h_2eRBbtCoKb...   \n",
      "345856             unknown  https://images.craigslist.org/00101_90L80OdQQ5...   \n",
      "345995  off-street parking  https://images.craigslist.org/00n0n_9p9IpPtxL0...   \n",
      "346110             unknown  https://images.craigslist.org/00F0F_kmLXgucf2v...   \n",
      "\n",
      "                                              description lat long state  \\\n",
      "62      A must see. Elegant quiet 2-level townhouse. R... NaN  NaN    ma   \n",
      "369     VIEW OUR WEBSITE:  http://www.clearpointvalley... NaN  NaN    mi   \n",
      "501     Welcome to Downtown Denvers FIRST Super LUXURY... NaN  NaN    co   \n",
      "841     This beautiful gated community is located in C... NaN  NaN    sc   \n",
      "976     We have a beautiful 2 large bedroom 1bath home... NaN  NaN    fl   \n",
      "...                                                   ...  ..  ...   ...   \n",
      "345789  Large 3BR with Large lot -> 2-car garage with ... NaN  NaN    oh   \n",
      "345847  The Preserve at Crestwood\\t                   ... NaN  NaN    al   \n",
      "345856  If you like it and want to rent this please TE... NaN  NaN    tx   \n",
      "345995  We have a beautiful 2 large bedroom 1 bath hom... NaN  NaN    fl   \n",
      "346110  VIEW OUR WEBSITE:  http://www.stoneharborapts.... NaN  NaN    fl   \n",
      "\n",
      "        price_scale  \n",
      "62                0  \n",
      "369               0  \n",
      "501               0  \n",
      "841               1  \n",
      "976               0  \n",
      "...             ...  \n",
      "345789            1  \n",
      "345847            1  \n",
      "345856            1  \n",
      "345995            0  \n",
      "346110            1  \n",
      "\n",
      "[1722 rows x 23 columns]\n"
     ]
    }
   ],
   "source": [
    "print(null_lat_long_df)"
   ]
  },
  {
   "attachments": {},
   "cell_type": "markdown",
   "metadata": {},
   "source": [
    "# Display map usin folium to check the scope"
   ]
  },
  {
   "attachments": {},
   "cell_type": "markdown",
   "metadata": {},
   "source": [
    "# Lat and Long variables"
   ]
  },
  {
   "cell_type": "code",
   "execution_count": 22,
   "metadata": {},
   "outputs": [],
   "source": [
    "latitude = df['lat'].mean()\n",
    "longitude = df['long'].mean()\n",
    "m = folium.Map(location=[latitude, longitude], zoom_start=13)"
   ]
  },
  {
   "attachments": {},
   "cell_type": "markdown",
   "metadata": {},
   "source": [
    "# Create a map object"
   ]
  },
  {
   "cell_type": "code",
   "execution_count": 23,
   "metadata": {},
   "outputs": [],
   "source": [
    "m = folium.Map(location=[latitude, longitude], zoom_start=13)"
   ]
  },
  {
   "attachments": {},
   "cell_type": "markdown",
   "metadata": {},
   "source": [
    "# Add a marker to the map"
   ]
  },
  {
   "cell_type": "code",
   "execution_count": 24,
   "metadata": {},
   "outputs": [
    {
     "data": {
      "text/plain": [
       "<folium.map.Marker at 0x2a09347f160>"
      ]
     },
     "execution_count": 24,
     "metadata": {},
     "output_type": "execute_result"
    }
   ],
   "source": [
    "folium.Marker(location=[latitude, longitude]).add_to(m)"
   ]
  },
  {
   "attachments": {},
   "cell_type": "markdown",
   "metadata": {},
   "source": [
    "# Display the map"
   ]
  },
  {
   "cell_type": "code",
   "execution_count": 25,
   "metadata": {},
   "outputs": [
    {
     "data": {
      "text/html": [
       "<div style=\"width:100%;\"><div style=\"position:relative;width:100%;height:0;padding-bottom:60%;\"><span style=\"color:#565656\">Make this Notebook Trusted to load map: File -> Trust Notebook</span><iframe srcdoc=\"&lt;!DOCTYPE html&gt;\n",
       "&lt;html&gt;\n",
       "&lt;head&gt;\n",
       "    \n",
       "    &lt;meta http-equiv=&quot;content-type&quot; content=&quot;text/html; charset=UTF-8&quot; /&gt;\n",
       "    \n",
       "        &lt;script&gt;\n",
       "            L_NO_TOUCH = false;\n",
       "            L_DISABLE_3D = false;\n",
       "        &lt;/script&gt;\n",
       "    \n",
       "    &lt;style&gt;html, body {width: 100%;height: 100%;margin: 0;padding: 0;}&lt;/style&gt;\n",
       "    &lt;style&gt;#map {position:absolute;top:0;bottom:0;right:0;left:0;}&lt;/style&gt;\n",
       "    &lt;script src=&quot;https://cdn.jsdelivr.net/npm/leaflet@1.9.3/dist/leaflet.js&quot;&gt;&lt;/script&gt;\n",
       "    &lt;script src=&quot;https://code.jquery.com/jquery-1.12.4.min.js&quot;&gt;&lt;/script&gt;\n",
       "    &lt;script src=&quot;https://cdn.jsdelivr.net/npm/bootstrap@5.2.2/dist/js/bootstrap.bundle.min.js&quot;&gt;&lt;/script&gt;\n",
       "    &lt;script src=&quot;https://cdnjs.cloudflare.com/ajax/libs/Leaflet.awesome-markers/2.0.2/leaflet.awesome-markers.js&quot;&gt;&lt;/script&gt;\n",
       "    &lt;link rel=&quot;stylesheet&quot; href=&quot;https://cdn.jsdelivr.net/npm/leaflet@1.9.3/dist/leaflet.css&quot;/&gt;\n",
       "    &lt;link rel=&quot;stylesheet&quot; href=&quot;https://cdn.jsdelivr.net/npm/bootstrap@5.2.2/dist/css/bootstrap.min.css&quot;/&gt;\n",
       "    &lt;link rel=&quot;stylesheet&quot; href=&quot;https://netdna.bootstrapcdn.com/bootstrap/3.0.0/css/bootstrap.min.css&quot;/&gt;\n",
       "    &lt;link rel=&quot;stylesheet&quot; href=&quot;https://cdn.jsdelivr.net/npm/@fortawesome/fontawesome-free@6.2.0/css/all.min.css&quot;/&gt;\n",
       "    &lt;link rel=&quot;stylesheet&quot; href=&quot;https://cdnjs.cloudflare.com/ajax/libs/Leaflet.awesome-markers/2.0.2/leaflet.awesome-markers.css&quot;/&gt;\n",
       "    &lt;link rel=&quot;stylesheet&quot; href=&quot;https://cdn.jsdelivr.net/gh/python-visualization/folium/folium/templates/leaflet.awesome.rotate.min.css&quot;/&gt;\n",
       "    \n",
       "            &lt;meta name=&quot;viewport&quot; content=&quot;width=device-width,\n",
       "                initial-scale=1.0, maximum-scale=1.0, user-scalable=no&quot; /&gt;\n",
       "            &lt;style&gt;\n",
       "                #map_01d34af7ab06eb35059d611abd91a49e {\n",
       "                    position: relative;\n",
       "                    width: 100.0%;\n",
       "                    height: 100.0%;\n",
       "                    left: 0.0%;\n",
       "                    top: 0.0%;\n",
       "                }\n",
       "                .leaflet-container { font-size: 1rem; }\n",
       "            &lt;/style&gt;\n",
       "        \n",
       "&lt;/head&gt;\n",
       "&lt;body&gt;\n",
       "    \n",
       "    \n",
       "            &lt;div class=&quot;folium-map&quot; id=&quot;map_01d34af7ab06eb35059d611abd91a49e&quot; &gt;&lt;/div&gt;\n",
       "        \n",
       "&lt;/body&gt;\n",
       "&lt;script&gt;\n",
       "    \n",
       "    \n",
       "            var map_01d34af7ab06eb35059d611abd91a49e = L.map(\n",
       "                &quot;map_01d34af7ab06eb35059d611abd91a49e&quot;,\n",
       "                {\n",
       "                    center: [37.234363124838666, -92.7054145657376],\n",
       "                    crs: L.CRS.EPSG3857,\n",
       "                    zoom: 13,\n",
       "                    zoomControl: true,\n",
       "                    preferCanvas: false,\n",
       "                }\n",
       "            );\n",
       "\n",
       "            \n",
       "\n",
       "        \n",
       "    \n",
       "            var tile_layer_fbad619ed9f3ed55a065e3cbb626b155 = L.tileLayer(\n",
       "                &quot;https://{s}.tile.openstreetmap.org/{z}/{x}/{y}.png&quot;,\n",
       "                {&quot;attribution&quot;: &quot;Data by \\u0026copy; \\u003ca target=\\&quot;_blank\\&quot; href=\\&quot;http://openstreetmap.org\\&quot;\\u003eOpenStreetMap\\u003c/a\\u003e, under \\u003ca target=\\&quot;_blank\\&quot; href=\\&quot;http://www.openstreetmap.org/copyright\\&quot;\\u003eODbL\\u003c/a\\u003e.&quot;, &quot;detectRetina&quot;: false, &quot;maxNativeZoom&quot;: 18, &quot;maxZoom&quot;: 18, &quot;minZoom&quot;: 0, &quot;noWrap&quot;: false, &quot;opacity&quot;: 1, &quot;subdomains&quot;: &quot;abc&quot;, &quot;tms&quot;: false}\n",
       "            ).addTo(map_01d34af7ab06eb35059d611abd91a49e);\n",
       "        \n",
       "    \n",
       "            var marker_40470c282adb003e32344e28fa38e787 = L.marker(\n",
       "                [37.234363124838666, -92.7054145657376],\n",
       "                {}\n",
       "            ).addTo(map_01d34af7ab06eb35059d611abd91a49e);\n",
       "        \n",
       "&lt;/script&gt;\n",
       "&lt;/html&gt;\" style=\"position:absolute;width:100%;height:100%;left:0;top:0;border:none !important;\" allowfullscreen webkitallowfullscreen mozallowfullscreen></iframe></div></div>"
      ],
      "text/plain": [
       "<folium.folium.Map at 0x2a0d4932140>"
      ]
     },
     "execution_count": 25,
     "metadata": {},
     "output_type": "execute_result"
    }
   ],
   "source": [
    "m"
   ]
  },
  {
   "attachments": {},
   "cell_type": "markdown",
   "metadata": {},
   "source": [
    "# Due to performance problems\n",
    "## I had to che the map ploting in a diferent file"
   ]
  },
  {
   "attachments": {},
   "cell_type": "markdown",
   "metadata": {},
   "source": [
    "# Creation of a new dataframe just for id, lat and long"
   ]
  },
  {
   "cell_type": "code",
   "execution_count": 26,
   "metadata": {},
   "outputs": [],
   "source": [
    "cord_df = df[['id', 'lat', 'long']]"
   ]
  },
  {
   "attachments": {},
   "cell_type": "markdown",
   "metadata": {},
   "source": [
    "# Display head and tail for check"
   ]
  },
  {
   "attachments": {},
   "cell_type": "markdown",
   "metadata": {},
   "source": [
    "# Display the first 5 rows of the dataframe"
   ]
  },
  {
   "cell_type": "code",
   "execution_count": 27,
   "metadata": {},
   "outputs": [
    {
     "name": "stdout",
     "output_type": "stream",
     "text": [
      "           id      lat      long\n",
      "0  7048013474  43.5851 -116.2250\n",
      "1  7043931179  38.9137 -104.7800\n",
      "2  7048254516  36.7922  -76.1643\n",
      "3  7041032577  33.5623 -112.0560\n",
      "4  7048588701  36.0595  -86.6592\n"
     ]
    }
   ],
   "source": [
    "print(cord_df.head())"
   ]
  },
  {
   "attachments": {},
   "cell_type": "markdown",
   "metadata": {},
   "source": [
    "# Display the last 5 rows of the dataframe"
   ]
  },
  {
   "cell_type": "code",
   "execution_count": 28,
   "metadata": {},
   "outputs": [
    {
     "name": "stdout",
     "output_type": "stream",
     "text": [
      "                id      lat      long\n",
      "346474  7050982281  37.9591  -87.5293\n",
      "346475  7049418251  32.6279 -117.0370\n",
      "346476  7048268235  33.9659  -80.9355\n",
      "346477  7026721229  48.1995 -101.2800\n",
      "346478  7049657819  42.8997  -78.8803\n"
     ]
    }
   ],
   "source": [
    "print(cord_df.tail())"
   ]
  },
  {
   "attachments": {},
   "cell_type": "markdown",
   "metadata": {},
   "source": [
    "# Export cord_df as a .csv file to che it in the new .py file"
   ]
  },
  {
   "cell_type": "code",
   "execution_count": 29,
   "metadata": {},
   "outputs": [],
   "source": [
    "cord_df.to_csv('./Map_check/train_only_cordinates.csv', index=False)"
   ]
  },
  {
   "attachments": {},
   "cell_type": "markdown",
   "metadata": {},
   "source": [
    "# Display df types"
   ]
  },
  {
   "cell_type": "code",
   "execution_count": 30,
   "metadata": {},
   "outputs": [
    {
     "name": "stdout",
     "output_type": "stream",
     "text": [
      "<class 'pandas.core.frame.DataFrame'>\n",
      "RangeIndex: 346479 entries, 0 to 346478\n",
      "Data columns (total 23 columns):\n",
      " #   Column                   Non-Null Count   Dtype  \n",
      "---  ------                   --------------   -----  \n",
      " 0   id                       346479 non-null  int64  \n",
      " 1   url                      346479 non-null  object \n",
      " 2   region                   346479 non-null  object \n",
      " 3   region_url               346479 non-null  object \n",
      " 4   price                    346479 non-null  int64  \n",
      " 5   type                     346479 non-null  object \n",
      " 6   sqfeet                   346479 non-null  int64  \n",
      " 7   beds                     346479 non-null  int64  \n",
      " 8   baths                    346479 non-null  float64\n",
      " 9   cats_allowed             346479 non-null  int64  \n",
      " 10  dogs_allowed             346479 non-null  int64  \n",
      " 11  smoking_allowed          346479 non-null  int64  \n",
      " 12  wheelchair_access        346479 non-null  int64  \n",
      " 13  electric_vehicle_charge  346479 non-null  int64  \n",
      " 14  comes_furnished          346479 non-null  int64  \n",
      " 15  laundry_options          346479 non-null  object \n",
      " 16  parking_options          346479 non-null  object \n",
      " 17  image_url                346479 non-null  object \n",
      " 18  description              346477 non-null  object \n",
      " 19  lat                      344757 non-null  float64\n",
      " 20  long                     344757 non-null  float64\n",
      " 21  state                    346479 non-null  object \n",
      " 22  price_scale              346479 non-null  int64  \n",
      "dtypes: float64(3), int64(11), object(9)\n",
      "memory usage: 60.8+ MB\n",
      "None\n"
     ]
    }
   ],
   "source": [
    "print(df.info())"
   ]
  },
  {
   "attachments": {},
   "cell_type": "markdown",
   "metadata": {},
   "source": [
    "# Analisys number of duplicates per colum"
   ]
  },
  {
   "attachments": {},
   "cell_type": "markdown",
   "metadata": {},
   "source": [
    "# First chek all rows"
   ]
  },
  {
   "cell_type": "code",
   "execution_count": 31,
   "metadata": {},
   "outputs": [
    {
     "name": "stdout",
     "output_type": "stream",
     "text": [
      "346479\n"
     ]
    }
   ],
   "source": [
    "row_count = df.shape[0]\n",
    "print(row_count)"
   ]
  },
  {
   "attachments": {},
   "cell_type": "markdown",
   "metadata": {},
   "source": [
    "# Duplicates in \"image_url\""
   ]
  },
  {
   "cell_type": "code",
   "execution_count": 32,
   "metadata": {},
   "outputs": [
    {
     "name": "stdout",
     "output_type": "stream",
     "text": [
      "Number of duplicate image_url: 178233\n"
     ]
    }
   ],
   "source": [
    "duplicates_mask = df['image_url'].duplicated()\n",
    "duplicates_count = duplicates_mask.sum()\n",
    "print(\"Number of duplicate image_url:\", duplicates_count)"
   ]
  },
  {
   "attachments": {},
   "cell_type": "markdown",
   "metadata": {},
   "source": [
    "# Duplicates in \"region_url\""
   ]
  },
  {
   "cell_type": "code",
   "execution_count": 33,
   "metadata": {},
   "outputs": [
    {
     "name": "stdout",
     "output_type": "stream",
     "text": [
      "Number of duplicate region_url: 346066\n"
     ]
    }
   ],
   "source": [
    "duplicates_mask = df['region_url'].duplicated()\n",
    "duplicates_count = duplicates_mask.sum()\n",
    "print(\"Number of duplicate region_url:\", duplicates_count)"
   ]
  },
  {
   "attachments": {},
   "cell_type": "markdown",
   "metadata": {},
   "source": [
    "# Duplicates in \"url\""
   ]
  },
  {
   "cell_type": "code",
   "execution_count": 34,
   "metadata": {},
   "outputs": [
    {
     "name": "stdout",
     "output_type": "stream",
     "text": [
      "Number of duplicate url: 0\n"
     ]
    }
   ],
   "source": [
    "duplicates_mask = df['url'].duplicated()\n",
    "duplicates_count = duplicates_mask.sum()\n",
    "print(\"Number of duplicate url:\", duplicates_count)"
   ]
  },
  {
   "attachments": {},
   "cell_type": "markdown",
   "metadata": {},
   "source": [
    "# Duplicates in \"description\""
   ]
  },
  {
   "cell_type": "code",
   "execution_count": 35,
   "metadata": {},
   "outputs": [
    {
     "name": "stdout",
     "output_type": "stream",
     "text": [
      "Number of duplicate description: 91488\n"
     ]
    }
   ],
   "source": [
    "duplicates_mask = df['description'].duplicated()\n",
    "duplicates_count = duplicates_mask.sum()\n",
    "print(\"Number of duplicate description:\", duplicates_count)"
   ]
  },
  {
   "attachments": {},
   "cell_type": "markdown",
   "metadata": {},
   "source": [
    "# Duplicates in \"lat\""
   ]
  },
  {
   "cell_type": "code",
   "execution_count": 36,
   "metadata": {},
   "outputs": [
    {
     "name": "stdout",
     "output_type": "stream",
     "text": [
      "Number of duplicate lat: 292656\n"
     ]
    }
   ],
   "source": [
    "duplicates_mask = df['lat'].duplicated()\n",
    "duplicates_count = duplicates_mask.sum()\n",
    "print(\"Number of duplicate lat:\", duplicates_count)"
   ]
  },
  {
   "attachments": {},
   "cell_type": "markdown",
   "metadata": {},
   "source": [
    "# Duplicates in \"long\""
   ]
  },
  {
   "cell_type": "code",
   "execution_count": 37,
   "metadata": {},
   "outputs": [
    {
     "name": "stdout",
     "output_type": "stream",
     "text": [
      "Number of duplicate long: 295349\n"
     ]
    }
   ],
   "source": [
    "duplicates_mask = df['long'].duplicated()\n",
    "duplicates_count = duplicates_mask.sum()\n",
    "print(\"Number of duplicate long:\", duplicates_count)"
   ]
  },
  {
   "attachments": {},
   "cell_type": "markdown",
   "metadata": {},
   "source": [
    "# Drop duplicate rows fitering by image_url"
   ]
  },
  {
   "cell_type": "code",
   "execution_count": 38,
   "metadata": {},
   "outputs": [],
   "source": [
    "df = df.drop_duplicates(subset=['image_url'], keep='first')"
   ]
  },
  {
   "attachments": {},
   "cell_type": "markdown",
   "metadata": {},
   "source": [
    "# Rechek all rows"
   ]
  },
  {
   "cell_type": "code",
   "execution_count": 39,
   "metadata": {},
   "outputs": [
    {
     "name": "stdout",
     "output_type": "stream",
     "text": [
      "168246\n"
     ]
    }
   ],
   "source": [
    "row_count = df.shape[0]\n",
    "print(row_count)"
   ]
  },
  {
   "attachments": {},
   "cell_type": "markdown",
   "metadata": {},
   "source": [
    "# Duplicates in \"image_url\""
   ]
  },
  {
   "cell_type": "code",
   "execution_count": 40,
   "metadata": {},
   "outputs": [
    {
     "name": "stdout",
     "output_type": "stream",
     "text": [
      "Number of duplicate image_url: 0\n"
     ]
    }
   ],
   "source": [
    "duplicates_mask = df['image_url'].duplicated()\n",
    "duplicates_count = duplicates_mask.sum()\n",
    "print(\"Number of duplicate image_url:\", duplicates_count)"
   ]
  },
  {
   "attachments": {},
   "cell_type": "markdown",
   "metadata": {},
   "source": [
    "# Duplicates in \"region_url\""
   ]
  },
  {
   "cell_type": "code",
   "execution_count": 41,
   "metadata": {},
   "outputs": [
    {
     "name": "stdout",
     "output_type": "stream",
     "text": [
      "Number of duplicate region_url: 167833\n"
     ]
    }
   ],
   "source": [
    "duplicates_mask = df['region_url'].duplicated()\n",
    "duplicates_count = duplicates_mask.sum()\n",
    "print(\"Number of duplicate region_url:\", duplicates_count)"
   ]
  },
  {
   "attachments": {},
   "cell_type": "markdown",
   "metadata": {},
   "source": [
    "# Duplicates in \"url\""
   ]
  },
  {
   "cell_type": "code",
   "execution_count": 42,
   "metadata": {},
   "outputs": [
    {
     "name": "stdout",
     "output_type": "stream",
     "text": [
      "Number of duplicate url: 0\n"
     ]
    }
   ],
   "source": [
    "duplicates_mask = df['url'].duplicated()\n",
    "duplicates_count = duplicates_mask.sum()\n",
    "print(\"Number of duplicate url:\", duplicates_count)"
   ]
  },
  {
   "attachments": {},
   "cell_type": "markdown",
   "metadata": {},
   "source": [
    "# Duplicates in \"description\""
   ]
  },
  {
   "cell_type": "code",
   "execution_count": 43,
   "metadata": {},
   "outputs": [
    {
     "name": "stdout",
     "output_type": "stream",
     "text": [
      "Number of duplicate description: 19315\n"
     ]
    }
   ],
   "source": [
    "duplicates_mask = df['description'].duplicated()\n",
    "duplicates_count = duplicates_mask.sum()\n",
    "print(\"Number of duplicate description:\", duplicates_count)"
   ]
  },
  {
   "attachments": {},
   "cell_type": "markdown",
   "metadata": {},
   "source": [
    "# Duplicates in \"lat\""
   ]
  },
  {
   "cell_type": "code",
   "execution_count": 44,
   "metadata": {},
   "outputs": [
    {
     "name": "stdout",
     "output_type": "stream",
     "text": [
      "Number of duplicate lat: 117672\n"
     ]
    }
   ],
   "source": [
    "duplicates_mask = df['lat'].duplicated()\n",
    "duplicates_count = duplicates_mask.sum()\n",
    "print(\"Number of duplicate lat:\", duplicates_count)"
   ]
  },
  {
   "attachments": {},
   "cell_type": "markdown",
   "metadata": {},
   "source": [
    "# Duplicates in \"long\""
   ]
  },
  {
   "cell_type": "code",
   "execution_count": 45,
   "metadata": {},
   "outputs": [
    {
     "name": "stdout",
     "output_type": "stream",
     "text": [
      "Number of duplicate long: 120538\n"
     ]
    }
   ],
   "source": [
    "duplicates_mask = df['long'].duplicated()\n",
    "duplicates_count = duplicates_mask.sum()\n",
    "print(\"Number of duplicate long:\", duplicates_count)"
   ]
  },
  {
   "attachments": {},
   "cell_type": "markdown",
   "metadata": {},
   "source": [
    "# Print the list of columns"
   ]
  },
  {
   "cell_type": "code",
   "execution_count": 46,
   "metadata": {},
   "outputs": [
    {
     "name": "stdout",
     "output_type": "stream",
     "text": [
      "Index(['id', 'url', 'region', 'region_url', 'price', 'type', 'sqfeet', 'beds',\n",
      "       'baths', 'cats_allowed', 'dogs_allowed', 'smoking_allowed',\n",
      "       'wheelchair_access', 'electric_vehicle_charge', 'comes_furnished',\n",
      "       'laundry_options', 'parking_options', 'image_url', 'description', 'lat',\n",
      "       'long', 'state', 'price_scale'],\n",
      "      dtype='object')\n"
     ]
    }
   ],
   "source": [
    "print(df.columns)"
   ]
  },
  {
   "attachments": {},
   "cell_type": "markdown",
   "metadata": {},
   "source": [
    "# Iterate over each column in the DataFrame"
   ]
  },
  {
   "cell_type": "code",
   "execution_count": 47,
   "metadata": {},
   "outputs": [
    {
     "name": "stdout",
     "output_type": "stream",
     "text": [
      "Unique values in 'id' column: [7048013474 7043931179 7048254516 ... 7045689575 7049418251 7049657819]\n",
      "Type of 'id' column: int64\n",
      "Unique values in 'url' column: ['https://boise.craigslist.org/apa/d/very-nice-bench-house-for-rent/7048013474.html'\n",
      " 'https://cosprings.craigslist.org/apa/d/colorado-springs-rare-vacancy-in-this/7043931179.html'\n",
      " 'https://norfolk.craigslist.org/apa/d/virginia-beach-2-bed-2-bath-ready-to/7048254516.html'\n",
      " ...\n",
      " 'https://boston.craigslist.org/gbs/apa/d/brookline-newly-renovated-brookline-1/7045689575.html'\n",
      " 'https://sandiego.craigslist.org/ssd/apa/d/chula-vista-beautifully-upgraded-2bd-2ba/7049418251.html'\n",
      " 'https://buffalo.craigslist.org/apa/d/buffalo-allentown-huge-2bed-2fplc-wash/7049657819.html']\n",
      "Type of 'url' column: object\n",
      "Unique values in 'region' column: ['boise' 'colorado springs' 'norfolk / hampton roads' 'phoenix'\n",
      " 'nashville' 'dallas / fort worth' 'worcester / central MA' 'wichita'\n",
      " 'scranton / wilkes-barre' 'maine' 'south coast' 'north mississippi'\n",
      " 'abilene' 'new orleans' 'rochester' 'louisville' 'seattle-tacoma'\n",
      " 'huntsville / decatur' 'ventura county' 'augusta' 'charlotte' 'roanoke'\n",
      " 'cumberland valley' 'omaha / council bluffs' 'sarasota-bradenton'\n",
      " 'san marcos' 'albany' 'tampa bay area' 'inland empire' 'salem'\n",
      " 'little rock' 'prescott' 'hawaii' 'central NJ' 'lakeland' 'provo / orem'\n",
      " 'eastern panhandle' 'athens' 'lafayette' 'asheville' 'st cloud'\n",
      " 'myrtle beach' 'odessa / midland' 'treasure coast' 'wichita falls'\n",
      " 'topeka' 'shreveport' 'okaloosa / walton' 'dayton / springfield'\n",
      " 'college station' 'panama city' 'SF bay area' 'bowling green'\n",
      " 'fredericksburg' 'springfield' 'columbia / jeff city' 'flint' 'monroe'\n",
      " 'eugene' 'anchorage / mat-su' 'central michigan' 'toledo' 'san diego'\n",
      " 'mobile' 'winston-salem' 'rapid city / west SD' 'tulsa' 'des moines'\n",
      " 'york' 'jacksonville' 'washington, DC' 'orlando' 'bakersfield'\n",
      " 'palm springs' 'san antonio' 'jackson' 'galveston' 'fort wayne'\n",
      " 'northwest CT' 'memphis' 'mcallen / edinburg' 'south jersey' 'twin falls'\n",
      " 'annapolis' 'stillwater' 'texoma' 'minneapolis / st paul' 'pensacola'\n",
      " 'northwest GA' 'long island' 'baltimore' 'daytona beach' 'grand rapids'\n",
      " 'hartford' 'rhode island' 'williamsport' 'stockton' 'lincoln'\n",
      " 'space coast' 'austin' 'st augustine' 'gainesville'\n",
      " \"spokane / coeur d'alene\" 'columbus' 'salt lake city' 'bismarck'\n",
      " 'los angeles' 'kansas city, MO' 'akron / canton' 'corpus christi'\n",
      " 'reno / tahoe' 'elko' 'fresno / madera' 'wausau' 'hilton head'\n",
      " 'florida keys' 'lansing' 'western massachusetts' 'north jersey'\n",
      " 'new hampshire' 'wenatchee' 'milwaukee' 'frederick' 'heartland florida'\n",
      " 'waco' 'columbia' 'eastern shore' 'eastern NC' 'battle creek'\n",
      " 'detroit metro' 'lancaster' 'muskegon' 'fort collins / north CO'\n",
      " 'delaware' 'gold country' 'kennewick-pasco-richland' 'tucson' 'manhattan'\n",
      " 'south florida' 'las vegas' 'savannah / hinesville' 'portland' 'reading'\n",
      " 'southern maryland' 'northwest KS' 'atlanta' 'greensboro' 'grand forks'\n",
      " 'wilmington' 'gulfport / biloxi' 'st louis, MO' 'cleveland' 'lawrence'\n",
      " 'madison' 'monterey bay' 'greenville / upstate'\n",
      " 'lafayette / west lafayette' 'fayetteville' 'harrisburg' 'evansville'\n",
      " 'tri-cities' 'modesto' 'utica-rome-oneida' 'boulder' 'philadelphia'\n",
      " 'baton rouge' 'east idaho' 'binghamton' 'macon / warner robins'\n",
      " 'charleston' 'denver' 'jonesboro' 'sacramento' 'bloomington' 'lubbock'\n",
      " 'bend' 'ogden-clearfield' 'killeen / temple / ft hood' 'cincinnati'\n",
      " 'orange county' 'sioux falls / SE SD' 'cedar rapids'\n",
      " 'beaumont / port arthur' 'amarillo' 'ft myers / SW florida'\n",
      " 'visalia-tulare' 'albuquerque' 'boston' 'saginaw-midland-baycity'\n",
      " 'tallahassee' 'iowa city' 'houston' 'quad cities, IA/IL'\n",
      " 'raleigh / durham / CH' 'tyler / east TX' 'erie' 'holland'\n",
      " 'state college' 'eastern CT' 'chattanooga' 'oklahoma city' 'buffalo'\n",
      " 'montgomery' 'birmingham' 'jersey shore' 'mansfield' 'indianapolis'\n",
      " 'pittsburgh' 'la crosse' 'chicago' 'charlottesville' 'sierra vista'\n",
      " 'north dakota' 'billings' 'lexington' 'champaign urbana'\n",
      " 'south bend / michiana' 'richmond' 'kokomo' 'bellingham' 'vermont'\n",
      " 'northern michigan' 'glens falls' 'ames' 'fargo / moorhead' 'ann arbor'\n",
      " 'auburn' 'fairbanks' 'el paso' 'terre haute' 'sioux city' 'new york city'\n",
      " 'high rockies' 'kalamazoo' 'corvallis/albany' 'winchester' 'logan'\n",
      " 'houma' 'yuma' 'hanford-corcoran' 'grand island' 'syracuse' 'tuscaloosa'\n",
      " 'western slope' 'kenai peninsula' 'kenosha-racine' 'western KY'\n",
      " 'finger lakes' 'wyoming' 'fort dodge' 'lawton' 'santa maria' 'victoria'\n",
      " 'cape cod / islands' 'santa barbara' 'elmira-corning' 'lehigh valley'\n",
      " 'youngstown' 'st george' 'clarksville' 'chico' 'outer banks' 'oneonta'\n",
      " 'catskills' 'southwest michigan' 'florence' 'new haven' 'knoxville'\n",
      " 'altoona-johnstown' 'hudson valley' 'flagstaff / sedona'\n",
      " 'san luis obispo' 'missoula' 'lewiston / clarkston' 'gadsden-anniston'\n",
      " 'plattsburgh-adirondacks' 'fort smith' 'texarkana' 'northwest OK'\n",
      " 'bloomington-normal' 'santa fe / taos' 'ocala' 'moses lake' 'pueblo'\n",
      " 'muncie / anderson' 'mohave county' 'yakima' 'lynchburg' 'valdosta'\n",
      " 'waterloo / cedar falls' 'medford-ashland' 'show low'\n",
      " 'southeast missouri' 'imperial county' 'joplin' 'poconos' 'meridian'\n",
      " 'helena' 'brownsville' 'western maryland' 'mankato'\n",
      " 'appleton-oshkosh-FDL' 'hattiesburg' 'duluth / superior'\n",
      " 'skagit / island / SJI' 'mason city' 'peoria' 'humboldt county'\n",
      " 'north platte' 'harrisonburg' 'roseburg' 'port huron' 'butte' 'brainerd'\n",
      " 'southwest VA' 'decatur' 'southern WV' 'eau claire'\n",
      " 'zanesville / cambridge' 'dothan' 'ithaca' 'upper peninsula' 'meadville'\n",
      " 'merced' 'pullman / moscow' 'watertown' 'scottsbluff / panhandle'\n",
      " 'green bay' 'southeast KS' 'tuscarawas co' 'potsdam-canton-massena'\n",
      " 'northern panhandle' 'southwest MS' 'morgantown' 'redding'\n",
      " 'new river valley' 'danville' 'sheboygan' 'olympic peninsula'\n",
      " 'deep east texas' 'lake charles' 'rockford' 'yuba-sutter' 'laredo'\n",
      " 'bemidji' 'florence / muscle shoals' 'kirksville' 'north central FL'\n",
      " 'brunswick' 'lake of the ozarks' 'boone' 'western IL' 'bozeman'\n",
      " 'klamath falls' 'eastern kentucky' 'southwest MN' 'statesboro'\n",
      " 'cookeville' 'oregon coast' 'southern illinois' 'huntington-ashland'\n",
      " 'salina' 'hickory / lenoir' 'las cruces' 'kalispell'\n",
      " 'parkersburg-marietta' 'mattoon-charleston' 'roswell / carlsbad'\n",
      " 'east oregon' 'lima / findlay' 'la salle co' 'dubuque' 'siskiyou county'\n",
      " 'southeast alaska' 'sandusky' 'janesville' 'chillicothe' 'chautauqua'\n",
      " 'farmington' 'clovis / portales' 'central louisiana'\n",
      " 'west virginia (old)' 'pierre / central SD' 'st joseph' 'san angelo'\n",
      " 'eastern CO' 'northern WI' 'great falls' 'eastern montana' 'the thumb'\n",
      " 'owensboro' 'mendocino county' 'del rio / eagle pass' 'southwest KS'\n",
      " 'southeast IA' 'susanville' 'twin tiers NY/PA' 'southwest TX'\n",
      " 'northeast SD' 'south dakota' 'ashtabula' 'st louis' 'fort smith, AR'\n",
      " 'kansas city']\n",
      "Type of 'region' column: object\n",
      "Unique values in 'region_url' column: ['https://boise.craigslist.org' 'https://cosprings.craigslist.org'\n",
      " 'https://norfolk.craigslist.org' 'https://phoenix.craigslist.org'\n",
      " 'https://nashville.craigslist.org' 'https://dallas.craigslist.org'\n",
      " 'https://worcester.craigslist.org' 'https://wichita.craigslist.org'\n",
      " 'https://scranton.craigslist.org' 'https://maine.craigslist.org'\n",
      " 'https://southcoast.craigslist.org' 'https://northmiss.craigslist.org'\n",
      " 'https://abilene.craigslist.org' 'https://neworleans.craigslist.org'\n",
      " 'https://rmn.craigslist.org' 'https://louisville.craigslist.org'\n",
      " 'https://seattle.craigslist.org' 'https://huntsville.craigslist.org'\n",
      " 'https://ventura.craigslist.org' 'https://augusta.craigslist.org'\n",
      " 'https://charlotte.craigslist.org' 'https://roanoke.craigslist.org'\n",
      " 'https://chambersburg.craigslist.org' 'https://omaha.craigslist.org'\n",
      " 'https://sarasota.craigslist.org' 'https://sanmarcos.craigslist.org'\n",
      " 'https://albanyga.craigslist.org' 'https://tampa.craigslist.org'\n",
      " 'https://inlandempire.craigslist.org' 'https://salem.craigslist.org'\n",
      " 'https://littlerock.craigslist.org' 'https://prescott.craigslist.org'\n",
      " 'https://honolulu.craigslist.org' 'https://cnj.craigslist.org'\n",
      " 'https://lakeland.craigslist.org' 'https://provo.craigslist.org'\n",
      " 'https://martinsburg.craigslist.org' 'https://athensga.craigslist.org'\n",
      " 'https://lafayette.craigslist.org' 'https://asheville.craigslist.org'\n",
      " 'https://albany.craigslist.org' 'https://stcloud.craigslist.org'\n",
      " 'https://myrtlebeach.craigslist.org' 'https://odessa.craigslist.org'\n",
      " 'https://treasure.craigslist.org' 'https://wichitafalls.craigslist.org'\n",
      " 'https://topeka.craigslist.org' 'https://shreveport.craigslist.org'\n",
      " 'https://okaloosa.craigslist.org' 'https://dayton.craigslist.org'\n",
      " 'https://collegestation.craigslist.org'\n",
      " 'https://panamacity.craigslist.org' 'https://sfbay.craigslist.org'\n",
      " 'https://bgky.craigslist.org' 'https://fredericksburg.craigslist.org'\n",
      " 'https://springfield.craigslist.org' 'https://columbiamo.craigslist.org'\n",
      " 'https://flint.craigslist.org' 'https://monroe.craigslist.org'\n",
      " 'https://eugene.craigslist.org' 'https://anchorage.craigslist.org'\n",
      " 'https://centralmich.craigslist.org' 'https://toledo.craigslist.org'\n",
      " 'https://sandiego.craigslist.org' 'https://mobile.craigslist.org'\n",
      " 'https://winstonsalem.craigslist.org' 'https://rapidcity.craigslist.org'\n",
      " 'https://tulsa.craigslist.org' 'https://desmoines.craigslist.org'\n",
      " 'https://york.craigslist.org' 'https://jacksonville.craigslist.org'\n",
      " 'https://washingtondc.craigslist.org' 'https://orlando.craigslist.org'\n",
      " 'https://bakersfield.craigslist.org' 'https://palmsprings.craigslist.org'\n",
      " 'https://sanantonio.craigslist.org' 'https://jacksontn.craigslist.org'\n",
      " 'https://galveston.craigslist.org' 'https://fortwayne.craigslist.org'\n",
      " 'https://nwct.craigslist.org' 'https://memphis.craigslist.org'\n",
      " 'https://mcallen.craigslist.org' 'https://southjersey.craigslist.org'\n",
      " 'https://twinfalls.craigslist.org' 'https://annapolis.craigslist.org'\n",
      " 'https://stillwater.craigslist.org' 'https://texoma.craigslist.org'\n",
      " 'https://minneapolis.craigslist.org' 'https://pensacola.craigslist.org'\n",
      " 'https://nwga.craigslist.org' 'https://longisland.craigslist.org'\n",
      " 'https://baltimore.craigslist.org' 'https://daytona.craigslist.org'\n",
      " 'https://grandrapids.craigslist.org' 'https://hartford.craigslist.org'\n",
      " 'https://providence.craigslist.org' 'https://williamsport.craigslist.org'\n",
      " 'https://stockton.craigslist.org' 'https://lincoln.craigslist.org'\n",
      " 'https://spacecoast.craigslist.org' 'https://austin.craigslist.org'\n",
      " 'https://staugustine.craigslist.org' 'https://gainesville.craigslist.org'\n",
      " 'https://spokane.craigslist.org' 'https://columbus.craigslist.org'\n",
      " 'https://saltlakecity.craigslist.org' 'https://bismarck.craigslist.org'\n",
      " 'https://losangeles.craigslist.org' 'https://kansascity.craigslist.org'\n",
      " 'https://akroncanton.craigslist.org'\n",
      " 'https://corpuschristi.craigslist.org' 'https://reno.craigslist.org'\n",
      " 'https://elko.craigslist.org' 'https://jackson.craigslist.org'\n",
      " 'https://fresno.craigslist.org' 'https://wausau.craigslist.org'\n",
      " 'https://hiltonhead.craigslist.org' 'https://keys.craigslist.org'\n",
      " 'https://lansing.craigslist.org' 'https://westernmass.craigslist.org'\n",
      " 'https://newjersey.craigslist.org' 'https://nh.craigslist.org'\n",
      " 'https://wenatchee.craigslist.org' 'https://milwaukee.craigslist.org'\n",
      " 'https://frederick.craigslist.org' 'https://cfl.craigslist.org'\n",
      " 'https://waco.craigslist.org' 'https://columbia.craigslist.org'\n",
      " 'https://easternshore.craigslist.org' 'https://eastnc.craigslist.org'\n",
      " 'https://battlecreek.craigslist.org' 'https://detroit.craigslist.org'\n",
      " 'https://lancaster.craigslist.org' 'https://muskegon.craigslist.org'\n",
      " 'https://fortcollins.craigslist.org' 'https://delaware.craigslist.org'\n",
      " 'https://goldcountry.craigslist.org' 'https://kpr.craigslist.org'\n",
      " 'https://tucson.craigslist.org' 'https://ksu.craigslist.org'\n",
      " 'https://miami.craigslist.org' 'https://lasvegas.craigslist.org'\n",
      " 'https://savannah.craigslist.org' 'https://portland.craigslist.org'\n",
      " 'https://reading.craigslist.org' 'https://smd.craigslist.org'\n",
      " 'https://nwks.craigslist.org' 'https://atlanta.craigslist.org'\n",
      " 'https://greensboro.craigslist.org' 'https://grandforks.craigslist.org'\n",
      " 'https://wilmington.craigslist.org' 'https://gulfport.craigslist.org'\n",
      " 'https://stlouis.craigslist.org' 'https://cleveland.craigslist.org'\n",
      " 'https://lawrence.craigslist.org' 'https://madison.craigslist.org'\n",
      " 'https://monterey.craigslist.org' 'https://greenville.craigslist.org'\n",
      " 'https://tippecanoe.craigslist.org' 'https://fayetteville.craigslist.org'\n",
      " 'https://harrisburg.craigslist.org' 'https://evansville.craigslist.org'\n",
      " 'https://tricities.craigslist.org' 'https://modesto.craigslist.org'\n",
      " 'https://utica.craigslist.org' 'https://boulder.craigslist.org'\n",
      " 'https://philadelphia.craigslist.org' 'https://batonrouge.craigslist.org'\n",
      " 'https://eastidaho.craigslist.org' 'https://columbusga.craigslist.org'\n",
      " 'https://binghamton.craigslist.org' 'https://macon.craigslist.org'\n",
      " 'https://charleston.craigslist.org' 'https://denver.craigslist.org'\n",
      " 'https://jonesboro.craigslist.org' 'https://sacramento.craigslist.org'\n",
      " 'https://bloomington.craigslist.org' 'https://lubbock.craigslist.org'\n",
      " 'https://bend.craigslist.org' 'https://ogden.craigslist.org'\n",
      " 'https://killeen.craigslist.org' 'https://cincinnati.craigslist.org'\n",
      " 'https://orangecounty.craigslist.org' 'https://siouxfalls.craigslist.org'\n",
      " 'https://rochester.craigslist.org' 'https://cedarrapids.craigslist.org'\n",
      " 'https://beaumont.craigslist.org' 'https://amarillo.craigslist.org'\n",
      " 'https://fortmyers.craigslist.org' 'https://visalia.craigslist.org'\n",
      " 'https://albuquerque.craigslist.org' 'https://boston.craigslist.org'\n",
      " 'https://saginaw.craigslist.org' 'https://tallahassee.craigslist.org'\n",
      " 'https://iowacity.craigslist.org' 'https://houston.craigslist.org'\n",
      " 'https://quadcities.craigslist.org' 'https://raleigh.craigslist.org'\n",
      " 'https://easttexas.craigslist.org' 'https://erie.craigslist.org'\n",
      " 'https://holland.craigslist.org' 'https://pennstate.craigslist.org'\n",
      " 'https://newlondon.craigslist.org' 'https://chattanooga.craigslist.org'\n",
      " 'https://oklahomacity.craigslist.org' 'https://buffalo.craigslist.org'\n",
      " 'https://montgomery.craigslist.org' 'https://bham.craigslist.org'\n",
      " 'https://jerseyshore.craigslist.org' 'https://mansfield.craigslist.org'\n",
      " 'https://indianapolis.craigslist.org' 'https://pittsburgh.craigslist.org'\n",
      " 'https://lacrosse.craigslist.org' 'https://chicago.craigslist.org'\n",
      " 'https://charlottesville.craigslist.org'\n",
      " 'https://sierravista.craigslist.org' 'https://nd.craigslist.org'\n",
      " 'https://billings.craigslist.org' 'https://lexington.craigslist.org'\n",
      " 'https://chambana.craigslist.org' 'https://southbend.craigslist.org'\n",
      " 'https://richmond.craigslist.org' 'https://kokomo.craigslist.org'\n",
      " 'https://bellingham.craigslist.org' 'https://vermont.craigslist.org'\n",
      " 'https://nmi.craigslist.org' 'https://glensfalls.craigslist.org'\n",
      " 'https://fayar.craigslist.org' 'https://ames.craigslist.org'\n",
      " 'https://fargo.craigslist.org' 'https://annarbor.craigslist.org'\n",
      " 'https://auburn.craigslist.org' 'https://fairbanks.craigslist.org'\n",
      " 'https://elpaso.craigslist.org' 'https://charlestonwv.craigslist.org'\n",
      " 'https://terrehaute.craigslist.org' 'https://siouxcity.craigslist.org'\n",
      " 'https://newyork.craigslist.org' 'https://rockies.craigslist.org'\n",
      " 'https://kalamazoo.craigslist.org' 'https://onslow.craigslist.org'\n",
      " 'https://corvallis.craigslist.org' 'https://winchester.craigslist.org'\n",
      " 'https://logan.craigslist.org' 'https://houma.craigslist.org'\n",
      " 'https://yuma.craigslist.org' 'https://hanford.craigslist.org'\n",
      " 'https://grandisland.craigslist.org' 'https://syracuse.craigslist.org'\n",
      " 'https://tuscaloosa.craigslist.org' 'https://monroemi.craigslist.org'\n",
      " 'https://westslope.craigslist.org' 'https://kenai.craigslist.org'\n",
      " 'https://racine.craigslist.org' 'https://westky.craigslist.org'\n",
      " 'https://fingerlakes.craigslist.org' 'https://wyoming.craigslist.org'\n",
      " 'https://fortdodge.craigslist.org' 'https://lawton.craigslist.org'\n",
      " 'https://santamaria.craigslist.org' 'https://victoriatx.craigslist.org'\n",
      " 'https://capecod.craigslist.org' 'https://santabarbara.craigslist.org'\n",
      " 'https://elmira.craigslist.org' 'https://allentown.craigslist.org'\n",
      " 'https://youngstown.craigslist.org' 'https://stgeorge.craigslist.org'\n",
      " 'https://clarksville.craigslist.org' 'https://chico.craigslist.org'\n",
      " 'https://outerbanks.craigslist.org' 'https://oneonta.craigslist.org'\n",
      " 'https://catskills.craigslist.org' 'https://swmi.craigslist.org'\n",
      " 'https://florencesc.craigslist.org' 'https://newhaven.craigslist.org'\n",
      " 'https://knoxville.craigslist.org' 'https://altoona.craigslist.org'\n",
      " 'https://hudsonvalley.craigslist.org' 'https://flagstaff.craigslist.org'\n",
      " 'https://slo.craigslist.org' 'https://missoula.craigslist.org'\n",
      " 'https://lewiston.craigslist.org' 'https://gadsden.craigslist.org'\n",
      " 'https://plattsburgh.craigslist.org' 'https://fortsmith.craigslist.org'\n",
      " 'https://texarkana.craigslist.org' 'https://enid.craigslist.org'\n",
      " 'https://bn.craigslist.org' 'https://santafe.craigslist.org'\n",
      " 'https://ocala.craigslist.org' 'https://moseslake.craigslist.org'\n",
      " 'https://pueblo.craigslist.org' 'https://muncie.craigslist.org'\n",
      " 'https://mohave.craigslist.org' 'https://yakima.craigslist.org'\n",
      " 'https://lynchburg.craigslist.org' 'https://valdosta.craigslist.org'\n",
      " 'https://waterloo.craigslist.org' 'https://medford.craigslist.org'\n",
      " 'https://showlow.craigslist.org' 'https://springfieldil.craigslist.org'\n",
      " 'https://semo.craigslist.org' 'https://imperial.craigslist.org'\n",
      " 'https://joplin.craigslist.org' 'https://poconos.craigslist.org'\n",
      " 'https://meridian.craigslist.org' 'https://helena.craigslist.org'\n",
      " 'https://brownsville.craigslist.org' 'https://westmd.craigslist.org'\n",
      " 'https://mankato.craigslist.org' 'https://jxn.craigslist.org'\n",
      " 'https://appleton.craigslist.org' 'https://hattiesburg.craigslist.org'\n",
      " 'https://duluth.craigslist.org' 'https://skagit.craigslist.org'\n",
      " 'https://masoncity.craigslist.org' 'https://peoria.craigslist.org'\n",
      " 'https://humboldt.craigslist.org' 'https://northplatte.craigslist.org'\n",
      " 'https://harrisonburg.craigslist.org' 'https://roseburg.craigslist.org'\n",
      " 'https://porthuron.craigslist.org' 'https://butte.craigslist.org'\n",
      " 'https://brainerd.craigslist.org' 'https://swva.craigslist.org'\n",
      " 'https://decatur.craigslist.org' 'https://swv.craigslist.org'\n",
      " 'https://eauclaire.craigslist.org' 'https://zanesville.craigslist.org'\n",
      " 'https://dothan.craigslist.org' 'https://ithaca.craigslist.org'\n",
      " 'https://up.craigslist.org' 'https://meadville.craigslist.org'\n",
      " 'https://merced.craigslist.org' 'https://pullman.craigslist.org'\n",
      " 'https://watertown.craigslist.org' 'https://scottsbluff.craigslist.org'\n",
      " 'https://greenbay.craigslist.org' 'https://seks.craigslist.org'\n",
      " 'https://tuscarawas.craigslist.org' 'https://potsdam.craigslist.org'\n",
      " 'https://wheeling.craigslist.org' 'https://natchez.craigslist.org'\n",
      " 'https://morgantown.craigslist.org' 'https://redding.craigslist.org'\n",
      " 'https://blacksburg.craigslist.org' 'https://danville.craigslist.org'\n",
      " 'https://sheboygan.craigslist.org' 'https://olympic.craigslist.org'\n",
      " 'https://nacogdoches.craigslist.org' 'https://lakecharles.craigslist.org'\n",
      " 'https://rockford.craigslist.org' 'https://yubasutter.craigslist.org'\n",
      " 'https://laredo.craigslist.org' 'https://bemidji.craigslist.org'\n",
      " 'https://shoals.craigslist.org' 'https://kirksville.craigslist.org'\n",
      " 'https://lakecity.craigslist.org' 'https://brunswick.craigslist.org'\n",
      " 'https://loz.craigslist.org' 'https://boone.craigslist.org'\n",
      " 'https://quincy.craigslist.org' 'https://bozeman.craigslist.org'\n",
      " 'https://klamath.craigslist.org' 'https://eastky.craigslist.org'\n",
      " 'https://marshall.craigslist.org' 'https://statesboro.craigslist.org'\n",
      " 'https://cookeville.craigslist.org' 'https://oregoncoast.craigslist.org'\n",
      " 'https://carbondale.craigslist.org' 'https://huntington.craigslist.org'\n",
      " 'https://salina.craigslist.org' 'https://hickory.craigslist.org'\n",
      " 'https://lascruces.craigslist.org' 'https://kalispell.craigslist.org'\n",
      " 'https://parkersburg.craigslist.org' 'https://mattoon.craigslist.org'\n",
      " 'https://roswell.craigslist.org' 'https://richmondin.craigslist.org'\n",
      " 'https://eastoregon.craigslist.org' 'https://limaohio.craigslist.org'\n",
      " 'https://lasalle.craigslist.org' 'https://dubuque.craigslist.org'\n",
      " 'https://siskiyou.craigslist.org' 'https://juneau.craigslist.org'\n",
      " 'https://sandusky.craigslist.org' 'https://janesville.craigslist.org'\n",
      " 'https://chillicothe.craigslist.org' 'https://chautauqua.craigslist.org'\n",
      " 'https://farmington.craigslist.org' 'https://clovis.craigslist.org'\n",
      " 'https://cenla.craigslist.org' 'https://wv.craigslist.org'\n",
      " 'https://csd.craigslist.org' 'https://stjoseph.craigslist.org'\n",
      " 'https://sanangelo.craigslist.org' 'https://eastco.craigslist.org'\n",
      " 'https://northernwi.craigslist.org' 'https://greatfalls.craigslist.org'\n",
      " 'https://montana.craigslist.org' 'https://thumb.craigslist.org'\n",
      " 'https://owensboro.craigslist.org' 'https://mendocino.craigslist.org'\n",
      " 'https://delrio.craigslist.org' 'https://swks.craigslist.org'\n",
      " 'https://athensohio.craigslist.org' 'https://ottumwa.craigslist.org'\n",
      " 'https://susanville.craigslist.org' 'https://twintiers.craigslist.org'\n",
      " 'https://bigbend.craigslist.org' 'https://nesd.craigslist.org'\n",
      " 'https://sd.craigslist.org' 'https://ashtabula.craigslist.org']\n",
      "Type of 'region_url' column: object\n",
      "Unique values in 'price' column: [1350 1115 1129 ... 4756 3221 5015]\n",
      "Type of 'price' column: int64\n",
      "Unique values in 'type' column: ['house' 'apartment' 'duplex' 'loft' 'condo' 'manufactured' 'townhouse'\n",
      " 'in-law' 'cottage/cabin' 'flat' 'assisted living' 'land']\n",
      "Type of 'type' column: object\n",
      "Unique values in 'sqfeet' column: [1200  694  900 ... 3423 9200 3516]\n",
      "Type of 'sqfeet' column: int64\n",
      "Unique values in 'beds' column: [   2    1    3    5    4    0    6    8    7 1000 1100]\n",
      "Type of 'beds' column: int64\n",
      "Unique values in 'baths' column: [ 2.   1.   1.5  2.5  0.   3.5  4.   3.   4.5  5.   6.5  5.5  7.   6.\n",
      " 25.   7.5 35.   8.   8.5 75. ]\n",
      "Type of 'baths' column: float64\n",
      "Unique values in 'cats_allowed' column: [1 0]\n",
      "Type of 'cats_allowed' column: int64\n",
      "Unique values in 'dogs_allowed' column: [1 0]\n",
      "Type of 'dogs_allowed' column: int64\n",
      "Unique values in 'smoking_allowed' column: [1 0]\n",
      "Type of 'smoking_allowed' column: int64\n",
      "Unique values in 'wheelchair_access' column: [0 1]\n",
      "Type of 'wheelchair_access' column: int64\n",
      "Unique values in 'electric_vehicle_charge' column: [0 1]\n",
      "Type of 'electric_vehicle_charge' column: int64\n",
      "Unique values in 'comes_furnished' column: [0 1]\n",
      "Type of 'comes_furnished' column: int64\n",
      "Unique values in 'laundry_options' column: ['w/d in unit' 'w/d hookups' 'laundry on site' 'unknown' 'laundry in bldg'\n",
      " 'no laundry on site']\n",
      "Type of 'laundry_options' column: object\n",
      "Unique values in 'parking_options' column: ['detached garage' 'carport' 'off-street parking' 'unknown'\n",
      " 'attached garage' 'street parking' 'no parking' 'valet parking']\n",
      "Type of 'parking_options' column: object\n",
      "Unique values in 'image_url' column: ['https://images.craigslist.org/00B0B_cPiJMEheZe2_600x450.jpg'\n",
      " 'https://images.craigslist.org/00R0R_5XAoSKvfrz1_600x450.jpg'\n",
      " 'https://images.craigslist.org/00f0f_3ZbTFrsHpZ2_600x450.jpg' ...\n",
      " 'https://images.craigslist.org/00P0P_egXeeJ2jURo_600x450.jpg'\n",
      " 'https://images.craigslist.org/00O0O_6QsU4p5WMhO_600x450.jpg'\n",
      " 'https://images.craigslist.org/00w0w_7irvBxq409N_600x450.jpg']\n",
      "Type of 'image_url' column: object\n",
      "Unique values in 'description' column: ['Super cute row house in the Boise bench area.  2 bed/2 Bath, open floor plan.  Detached 2 car garage, fenced backyard/patio.  Awesome location, easy to drive or bike to downtown, the green belt or jump on the freeway and easily get anywhere! New flooring and paint throughout and lots of natural light gives a fresh look and feel. Central Air and Natural Gas furnace. Front Load high efficiency Washer & Dryer are included.      $1350 Rent includes Water-Sewer-Trash.   $1000 Security Deposit    Small to Medium sized pets negotiable with additional pet fee.    Lawn care available at a reasonable rate .'\n",
      " 'Windtree Apartment Homes currently has a spacious one bedroom apartment home available TODAY! One bedroom apartment homes at Windtree offer an abundance of storage spaces, full-size washers and dryers and spacious patio areas.  Take a swim in our glistening, seasonal pool or relax in our year-round hot tub after working a sweat in our 24 hour, 7 day a week fitness center. Live within a naturistic community in a centralized location next door to a 13 acre park, shopping centers and grocery stores.  Set up an appointment to tour with us today or apply online at www.windtreeapartmenthomes.com with apartment #29B to call this home yours.   *Important Requirements* -Monthly gross income must equal 3 times the monthly rent. If more than one applicant is applying the -income will be combined.  -Any person residing in the apartment that is 18 years of age or older must apply.  -Each person applying must pay the non-refundable application fee. -Credit and Criminal requirements apply. All applicants 18 or older undergo a credit and criminal screening. https://colorado.weidner.com/apartments/co/colorado-springs/windtree/'\n",
      " \"Call Today!  show contact info   Indian Lakes Prices start at $1129/month!  Stop Looking & Start Living!  Indian Lakes is a pet-friendly community offering delightful 1 & 2 bedroom townhomes and spacious apartment homes. At Indian Lakes, you'll enjoy living in a community filled with an unrivaled style that provides spacious interiors and modern designs in a wonderful setting. Residents also enjoy two resort-style swimming pools with sun decks, a business center, and a 24-Hour Fitness Facility â\\x80¦ plus much, much more! Coming home is the best part of the day when you live at Indian Lakes!Wonderful Amenities!+ Extra Storage+ Fireplace+ New/Renovated Interior+ Patio or Balcony+ Extra Storage+ Pool+ Courtyard+ Fitness Center+ Pet Park+ Planned Community Activities+ Dog Run+ Grill+ Community/Onsite Parking+ Community Laundry Room+ 24 hour Fitness Center+ Bark Park+ Car Wash Station+ Washer/Dryer in Select Units+ 2 Resort Style Swimming Pools+ 24 hour Laundry Center+ Fully Equipped Kitchen  show contact info 1601 Hiawatha Drive Virginia Beach, VA 23464   Website: www.indianlakesapts.comPet Policy: Cat(s);Dog(s);We welcome residents with pets of any size. $300.00 non refundable fee for one pet $500.00 non refundable for two. $20.00 pet rent per pet per month. Breed Restrictions apply.EQUAL HOUSING OPPORTUNITY\"\n",
      " ...\n",
      " \"PROPERTY INFO ID: 184600979Rent: 3155 / MonthBeds: 1Bath: 1Available Date: NOWPet: No PetsRent Includes:: Heat, Hot Water Newly renovated Brookline 1 bed on Auburn Street right in between Coolidge Corner & Brookline Village. Amazing location close to shopping, dining, public transportation and easy access to Longwood Medical Area. Unit features hardwood floors, renovated kitchen w/ dishwasher, spacious layout and laundry in unit!  Heat & hot water included in monthly rent!  NO BROKER FEE & security deposit is negotiable.  Call or email Jenna for more details! 978-504-1490 jenna @ benjaminapartments.com  Bus: 60, Walnut St @ High St (0.53 mi) Tram: D, Brookline Hills (0.48 mi) Bus: Green Line D Shuttle, Brookline Hills (0.47 mi) Bus: 66, Harvard St @ Harris St (0.08 mi) Bus: 51, Tappan St @ Greenough St (0.49 mi) Bus: 65, Washington St @ Gardner Path (0.18 mi) Tram: C, Summit Avenue (0.27 mi)   FEATURESA/CGranite Counter TopsHardwood FloorsLaundry in UnitNew/Renovated BathNew/Renovated KitchenStainless Steel Appliance(s)  Jenna DeLuca of Benjamin Apartments & Cityside Homes Real Estate Professional & Rental Manager 978-504-1490  Search Boston's largest selection of apartments at www.benjaminapartments.com   Benjamin Apartments LLC makes a good faith effort to post accurate photographs and descriptions of the apartments listed for rent, but because the information is supplied by third parties and is not independently verified, we cannot always guarantee its accuracy.  Rental rates, listing information and availability are subject to error and change, and listed rates may be lower than actual rates due to incentives offered by landlords. Additionally, the apartment advertised may no longer be available for rental.\"\n",
      " 'Seize your chance to live in our beautiful apartment community in Chula Vista, California. Picture coming home every day to the warm embrace of meticulous landscaping, comfortable homes, and thoughtful amenities tailored to enhance your life. Located in , Chula Vista, with easy access to I-805 and Highway 205, Canyon Villa Apartment Homes is just minutes away from Aquatica San Diego, as well as all of the shopping, dining, and entertainment that nearby downtown San Diego has to offer. (+more) Canyon Villa Apartment Homes provides its residents a wide selection of unique one, two, or three bedroom apartment homes that feature exclusive community and household amenities like a picturesque pool, outdoor BBQ area, and a fitness center. Come wiggle your toes in our picturesque pool, stroll through our pet-friendly community with your favorite furry companion, or have a day out on the town in nearby downtown San Diego. We know you deserve the very best in apartment living, and our community is designed specifically to ensure you donâ\\x80\\x99t just lease, you live. Go look at our photo gallery and schedule your appointment, or drop by and visit us for your personal tour today! Vibrant Chula Vista, CA Apartment Living  -Dog Park -Business Center w/ WiFi -Fitness Center -Outdoor BBQ area -Garages and Carports Available -Poolside WiFi -Sparkling Pool  Call:  show contact info   Equal Housing Opportunity Prices Change Daily Flexible Lease Terms'\n",
      " \"Description   Huge spacious 2 bedroom.  Beautiful hardwood flooring throughout.  Ceramic tile kitchen/bath.  2 fireplaces (living room and dining room).  Brand new sleek black kitchen appliances.  Crystal LED lighting.  Bluetooth (music) ceiling fan with retractable blades.  In-unit washer/dryer.  Brand new video intercom system.  Amazing park views.  New windows.  New furnace.  Gated off street parking available.  In the heart of Buffalo's historic Allentown District.  A short drive from downtown.  A short walk from public transportation, restaurants, shopping, nightlife - everything.  $1300 www.days-park.com  show contact info  Discover one of the many treasures in the heart of downtown Buffalo, NY. Days Park Commons offers fine living with many features that enhance your surroundings. Living at Days Park Commons is an experience that is truly uncommon. Nestled in the greenery of one of the original Frederick Law Olmsted parks, you'll find the outdoors as unique as the individually distinctive indoors. Days Park Commons is located in the Historic Allentown district close to convenient and eclectic shopping and vibrant nightlife. In the summer, you'll be steps away from the best Buffalo festivals. Year-round, it's the place to be.   Features     Cable ready     Hardwood floors     Refrigerator     Laundry room / hookups     Fireplace     Oven / range        Laundry room     Parking     Storage units\"]\n",
      "Type of 'description' column: object\n",
      "Unique values in 'lat' column: [43.5851 38.9137 36.7922 ... 35.1732 42.507  42.8997]\n",
      "Type of 'lat' column: float64\n",
      "Unique values in 'long' column: [-116.225  -104.78    -76.1643 ...  -73.1824  -85.3338  -70.8932]\n",
      "Type of 'long' column: float64\n",
      "Unique values in 'state' column: ['id' 'co' 'va' 'az' 'tn' 'tx' 'ma' 'ks' 'pa' 'me' 'ms' 'la' 'mn' 'ky'\n",
      " 'wa' 'al' 'ca' 'ga' 'nc' 'md' 'ia' 'fl' 'or' 'ar' 'hi' 'nj' 'ut' 'wv'\n",
      " 'ny' 'sc' 'oh' 'mo' 'mi' 'ak' 'sd' 'ok' 'dc' 'in' 'ct' 'ri' 'ne' 'nd'\n",
      " 'nv' 'wi' 'nh' 'de' 'il' 'nm' 'mt' 'vt' 'wy']\n",
      "Type of 'state' column: object\n",
      "Unique values in 'price_scale' column: [0 1]\n",
      "Type of 'price_scale' column: int64\n"
     ]
    }
   ],
   "source": [
    "for col in df.columns:\n",
    "    # Print the unique values and type for the current column\n",
    "    print(\"Unique values in '{}' column: {}\".format(col, df[col].unique()))\n",
    "    print(\"Type of '{}' column: {}\".format(col, df[col].dtype))"
   ]
  },
  {
   "attachments": {},
   "cell_type": "markdown",
   "metadata": {},
   "source": [
    "# Replace the Null values in \"lat\" & \"long\" colums with general cordinates using the \"satate\" colum"
   ]
  },
  {
   "attachments": {},
   "cell_type": "markdown",
   "metadata": {},
   "source": [
    "# Create a dictionary to map state abbreviation to coordinates"
   ]
  },
  {
   "cell_type": "code",
   "execution_count": 48,
   "metadata": {},
   "outputs": [],
   "source": [
    "state_coords = {\n",
    "    'id': (43.6137, -116.2034),\n",
    "    'co': (39.5501, -105.7821),\n",
    "    'va': (37.7693, -78.1700),\n",
    "    'az': (34.2744, -111.6602),\n",
    "    'tn': (35.7478, -86.6923),\n",
    "    'tx': (31.9686, -99.9018),\n",
    "    'ma': (42.4072, -71.3824),\n",
    "    'ks': (38.5111, -98.2883),\n",
    "    'pa': (40.5773, -77.264),\n",
    "    'me': (45.2538, -69.4455),\n",
    "    'ms': (32.7416, -89.6787),\n",
    "    'la': (31.1801, -91.8749),\n",
    "    'mn': (46.729553, -94.6859),\n",
    "    'ky': (37.669, -84.6514),\n",
    "    'wa': (47.7511, -120.7401),\n",
    "    'al': (32.806671, -86.791130),\n",
    "    'ca': (37.271875, -119.270415),\n",
    "    'ga': (32.678125, -83.223905),\n",
    "    'nc': (35.787743, -78.634106),\n",
    "    'md': (39.045755, -76.641271),\n",
    "    'ia': (41.9383, -93.0977),\n",
    "    'fl': (27.994402, -81.760254),\n",
    "    'or': (43.804133, -120.554201),\n",
    "    'ar': (34.799999, -92.199997),\n",
    "    'hi': (19.8968, -155.5828),\n",
    "    'nj': (40.143006, -74.731116),\n",
    "    'ut': (39.419220, -111.950684),\n",
    "    'wv': (38.597626, -80.454903),\n",
    "    'ny': (42.165726, -74.948051),\n",
    "    'sc': (33.836081, -81.1637245),\n",
    "    'oh': (40.417287, -82.907123),\n",
    "    'mo': (38.573936, -92.60376),\n",
    "    'mi': (44.314844, -85.602364),\n",
    "    'ak': (61.3850, -152.2683),\n",
    "    'sd': (44.2126, -99.4388),\n",
    "    'ok': (35.5376, -96.9000)\n",
    "}"
   ]
  },
  {
   "attachments": {},
   "cell_type": "markdown",
   "metadata": {},
   "source": [
    "# Get the rows where 'lat' is null"
   ]
  },
  {
   "cell_type": "code",
   "execution_count": 49,
   "metadata": {},
   "outputs": [],
   "source": [
    "null_lat_rows = df[df['lat'].isnull()]"
   ]
  },
  {
   "attachments": {},
   "cell_type": "markdown",
   "metadata": {},
   "source": [
    "# Iterate over the rows where 'lat' is null"
   ]
  },
  {
   "cell_type": "code",
   "execution_count": 50,
   "metadata": {},
   "outputs": [],
   "source": [
    "for index, row in null_lat_rows.iterrows():\n",
    "    # Get the state abbreviation from the 'state' column\n",
    "    state_abbr = row['state']\n",
    "    if state_abbr in state_coords:\n",
    "        # Look up the coordinates for the state abbreviation in the dictionary\n",
    "        lat = state_coords[state_abbr][0]\n",
    "        # Update the 'lat' column for the current row\n",
    "        df.loc[index, 'lat'] = lat"
   ]
  },
  {
   "attachments": {},
   "cell_type": "markdown",
   "metadata": {},
   "source": [
    "# Get the rows where 'long' is null"
   ]
  },
  {
   "cell_type": "code",
   "execution_count": 51,
   "metadata": {},
   "outputs": [],
   "source": [
    "null_long_rows = df[df['long'].isnull()]"
   ]
  },
  {
   "attachments": {},
   "cell_type": "markdown",
   "metadata": {},
   "source": [
    "# Iterate over the rows where 'long' is null"
   ]
  },
  {
   "cell_type": "code",
   "execution_count": 52,
   "metadata": {},
   "outputs": [],
   "source": [
    "for index, row in null_long_rows.iterrows():\n",
    "    # Get the state abbreviation from the 'state' column\n",
    "    state_abbr = row['state']\n",
    "    if state_abbr in state_coords:\n",
    "        # Look up the coordinates for the state abbreviation in the dictionary\n",
    "        long = state_coords[state_abbr][1]\n",
    "        # Update the 'long' column for the current row\n",
    "        df.loc[index, 'long'] = long"
   ]
  },
  {
   "attachments": {},
   "cell_type": "markdown",
   "metadata": {},
   "source": [
    "# Check for missing values"
   ]
  },
  {
   "cell_type": "code",
   "execution_count": 53,
   "metadata": {},
   "outputs": [
    {
     "name": "stdout",
     "output_type": "stream",
     "text": [
      "id                           0\n",
      "url                          0\n",
      "region                       0\n",
      "region_url                   0\n",
      "price                        0\n",
      "type                         0\n",
      "sqfeet                       0\n",
      "beds                         0\n",
      "baths                        0\n",
      "cats_allowed                 0\n",
      "dogs_allowed                 0\n",
      "smoking_allowed              0\n",
      "wheelchair_access            0\n",
      "electric_vehicle_charge      0\n",
      "comes_furnished              0\n",
      "laundry_options              0\n",
      "parking_options              0\n",
      "image_url                    0\n",
      "description                  1\n",
      "lat                        105\n",
      "long                       105\n",
      "state                        0\n",
      "price_scale                  0\n",
      "dtype: int64\n"
     ]
    }
   ],
   "source": [
    "print(df.isnull().sum())"
   ]
  },
  {
   "attachments": {},
   "cell_type": "markdown",
   "metadata": {},
   "source": [
    "# Create a boolean mask to select the rows that meet the conditions"
   ]
  },
  {
   "cell_type": "code",
   "execution_count": 54,
   "metadata": {},
   "outputs": [],
   "source": [
    "mask = (df['lat'] > 55) | (df['lat'] < 20) | (df['long'] > -55) | (df['long'] < -130) | ~df['state'].isin(state_coords.keys())"
   ]
  },
  {
   "attachments": {},
   "cell_type": "markdown",
   "metadata": {},
   "source": [
    "# Use the mask to select the rows to drop"
   ]
  },
  {
   "cell_type": "code",
   "execution_count": 55,
   "metadata": {},
   "outputs": [],
   "source": [
    "df_to_drop = df.loc[mask]"
   ]
  },
  {
   "attachments": {},
   "cell_type": "markdown",
   "metadata": {},
   "source": [
    "# Use the drop method to remove the selected rows from the DataFrame"
   ]
  },
  {
   "cell_type": "code",
   "execution_count": 56,
   "metadata": {},
   "outputs": [],
   "source": [
    "df = df.drop(df_to_drop.index)"
   ]
  },
  {
   "attachments": {},
   "cell_type": "markdown",
   "metadata": {},
   "source": [
    "# Check for missing values"
   ]
  },
  {
   "cell_type": "code",
   "execution_count": 57,
   "metadata": {},
   "outputs": [
    {
     "name": "stdout",
     "output_type": "stream",
     "text": [
      "id                         0\n",
      "url                        0\n",
      "region                     0\n",
      "region_url                 0\n",
      "price                      0\n",
      "type                       0\n",
      "sqfeet                     0\n",
      "beds                       0\n",
      "baths                      0\n",
      "cats_allowed               0\n",
      "dogs_allowed               0\n",
      "smoking_allowed            0\n",
      "wheelchair_access          0\n",
      "electric_vehicle_charge    0\n",
      "comes_furnished            0\n",
      "laundry_options            0\n",
      "parking_options            0\n",
      "image_url                  0\n",
      "description                1\n",
      "lat                        0\n",
      "long                       0\n",
      "state                      0\n",
      "price_scale                0\n",
      "dtype: int64\n"
     ]
    }
   ],
   "source": [
    "print(df.isnull().sum())"
   ]
  },
  {
   "attachments": {},
   "cell_type": "markdown",
   "metadata": {},
   "source": [
    "# Display df info"
   ]
  },
  {
   "cell_type": "code",
   "execution_count": 58,
   "metadata": {},
   "outputs": [
    {
     "name": "stdout",
     "output_type": "stream",
     "text": [
      "<class 'pandas.core.frame.DataFrame'>\n",
      "Int64Index: 141847 entries, 0 to 346478\n",
      "Data columns (total 23 columns):\n",
      " #   Column                   Non-Null Count   Dtype  \n",
      "---  ------                   --------------   -----  \n",
      " 0   id                       141847 non-null  int64  \n",
      " 1   url                      141847 non-null  object \n",
      " 2   region                   141847 non-null  object \n",
      " 3   region_url               141847 non-null  object \n",
      " 4   price                    141847 non-null  int64  \n",
      " 5   type                     141847 non-null  object \n",
      " 6   sqfeet                   141847 non-null  int64  \n",
      " 7   beds                     141847 non-null  int64  \n",
      " 8   baths                    141847 non-null  float64\n",
      " 9   cats_allowed             141847 non-null  int64  \n",
      " 10  dogs_allowed             141847 non-null  int64  \n",
      " 11  smoking_allowed          141847 non-null  int64  \n",
      " 12  wheelchair_access        141847 non-null  int64  \n",
      " 13  electric_vehicle_charge  141847 non-null  int64  \n",
      " 14  comes_furnished          141847 non-null  int64  \n",
      " 15  laundry_options          141847 non-null  object \n",
      " 16  parking_options          141847 non-null  object \n",
      " 17  image_url                141847 non-null  object \n",
      " 18  description              141846 non-null  object \n",
      " 19  lat                      141847 non-null  float64\n",
      " 20  long                     141847 non-null  float64\n",
      " 21  state                    141847 non-null  object \n",
      " 22  price_scale              141847 non-null  int64  \n",
      "dtypes: float64(3), int64(11), object(9)\n",
      "memory usage: 26.0+ MB\n"
     ]
    }
   ],
   "source": [
    "df.info()"
   ]
  },
  {
   "attachments": {},
   "cell_type": "markdown",
   "metadata": {},
   "source": [
    "# Drop missing values in \"description\""
   ]
  },
  {
   "cell_type": "code",
   "execution_count": 59,
   "metadata": {},
   "outputs": [],
   "source": [
    "df = df.dropna(subset=['description'])"
   ]
  },
  {
   "attachments": {},
   "cell_type": "markdown",
   "metadata": {},
   "source": [
    "# Display info"
   ]
  },
  {
   "cell_type": "code",
   "execution_count": 60,
   "metadata": {},
   "outputs": [
    {
     "name": "stdout",
     "output_type": "stream",
     "text": [
      "<class 'pandas.core.frame.DataFrame'>\n",
      "Int64Index: 141846 entries, 0 to 346478\n",
      "Data columns (total 23 columns):\n",
      " #   Column                   Non-Null Count   Dtype  \n",
      "---  ------                   --------------   -----  \n",
      " 0   id                       141846 non-null  int64  \n",
      " 1   url                      141846 non-null  object \n",
      " 2   region                   141846 non-null  object \n",
      " 3   region_url               141846 non-null  object \n",
      " 4   price                    141846 non-null  int64  \n",
      " 5   type                     141846 non-null  object \n",
      " 6   sqfeet                   141846 non-null  int64  \n",
      " 7   beds                     141846 non-null  int64  \n",
      " 8   baths                    141846 non-null  float64\n",
      " 9   cats_allowed             141846 non-null  int64  \n",
      " 10  dogs_allowed             141846 non-null  int64  \n",
      " 11  smoking_allowed          141846 non-null  int64  \n",
      " 12  wheelchair_access        141846 non-null  int64  \n",
      " 13  electric_vehicle_charge  141846 non-null  int64  \n",
      " 14  comes_furnished          141846 non-null  int64  \n",
      " 15  laundry_options          141846 non-null  object \n",
      " 16  parking_options          141846 non-null  object \n",
      " 17  image_url                141846 non-null  object \n",
      " 18  description              141846 non-null  object \n",
      " 19  lat                      141846 non-null  float64\n",
      " 20  long                     141846 non-null  float64\n",
      " 21  state                    141846 non-null  object \n",
      " 22  price_scale              141846 non-null  int64  \n",
      "dtypes: float64(3), int64(11), object(9)\n",
      "memory usage: 26.0+ MB\n"
     ]
    }
   ],
   "source": [
    "df.info()"
   ]
  },
  {
   "attachments": {},
   "cell_type": "markdown",
   "metadata": {},
   "source": [
    "# Check for missing values"
   ]
  },
  {
   "cell_type": "code",
   "execution_count": 61,
   "metadata": {},
   "outputs": [
    {
     "name": "stdout",
     "output_type": "stream",
     "text": [
      "id                         0\n",
      "url                        0\n",
      "region                     0\n",
      "region_url                 0\n",
      "price                      0\n",
      "type                       0\n",
      "sqfeet                     0\n",
      "beds                       0\n",
      "baths                      0\n",
      "cats_allowed               0\n",
      "dogs_allowed               0\n",
      "smoking_allowed            0\n",
      "wheelchair_access          0\n",
      "electric_vehicle_charge    0\n",
      "comes_furnished            0\n",
      "laundry_options            0\n",
      "parking_options            0\n",
      "image_url                  0\n",
      "description                0\n",
      "lat                        0\n",
      "long                       0\n",
      "state                      0\n",
      "price_scale                0\n",
      "dtype: int64\n"
     ]
    }
   ],
   "source": [
    "print(df.isnull().sum())"
   ]
  },
  {
   "cell_type": "code",
   "execution_count": 62,
   "metadata": {},
   "outputs": [
    {
     "name": "stdout",
     "output_type": "stream",
     "text": [
      "Unique values in 'id' column: [7048013474 7043931179 7048254516 ... 7045689575 7049418251 7049657819]\n",
      "Unique values in 'url' column: ['https://boise.craigslist.org/apa/d/very-nice-bench-house-for-rent/7048013474.html'\n",
      " 'https://cosprings.craigslist.org/apa/d/colorado-springs-rare-vacancy-in-this/7043931179.html'\n",
      " 'https://norfolk.craigslist.org/apa/d/virginia-beach-2-bed-2-bath-ready-to/7048254516.html'\n",
      " ...\n",
      " 'https://boston.craigslist.org/gbs/apa/d/brookline-newly-renovated-brookline-1/7045689575.html'\n",
      " 'https://sandiego.craigslist.org/ssd/apa/d/chula-vista-beautifully-upgraded-2bd-2ba/7049418251.html'\n",
      " 'https://buffalo.craigslist.org/apa/d/buffalo-allentown-huge-2bed-2fplc-wash/7049657819.html']\n",
      "Unique values in 'region' column: ['boise' 'colorado springs' 'norfolk / hampton roads' 'phoenix'\n",
      " 'nashville' 'dallas / fort worth' 'worcester / central MA' 'wichita'\n",
      " 'scranton / wilkes-barre' 'maine' 'south coast' 'north mississippi'\n",
      " 'abilene' 'new orleans' 'rochester' 'louisville' 'seattle-tacoma'\n",
      " 'huntsville / decatur' 'ventura county' 'augusta' 'charlotte' 'roanoke'\n",
      " 'cumberland valley' 'omaha / council bluffs' 'sarasota-bradenton'\n",
      " 'san marcos' 'albany' 'tampa bay area' 'inland empire' 'salem'\n",
      " 'little rock' 'prescott' 'central NJ' 'lakeland' 'provo / orem'\n",
      " 'eastern panhandle' 'athens' 'lafayette' 'asheville' 'st cloud'\n",
      " 'myrtle beach' 'odessa / midland' 'treasure coast' 'wichita falls'\n",
      " 'topeka' 'shreveport' 'okaloosa / walton' 'dayton / springfield'\n",
      " 'college station' 'panama city' 'SF bay area' 'bowling green'\n",
      " 'fredericksburg' 'springfield' 'columbia / jeff city' 'flint' 'monroe'\n",
      " 'eugene' 'central michigan' 'toledo' 'san diego' 'mobile' 'winston-salem'\n",
      " 'rapid city / west SD' 'tulsa' 'des moines' 'york' 'jacksonville'\n",
      " 'orlando' 'bakersfield' 'palm springs' 'san antonio' 'jackson'\n",
      " 'galveston' 'memphis' 'mcallen / edinburg' 'south jersey' 'twin falls'\n",
      " 'annapolis' 'stillwater' 'texoma' 'minneapolis / st paul' 'pensacola'\n",
      " 'northwest GA' 'long island' 'baltimore' 'daytona beach' 'grand rapids'\n",
      " 'williamsport' 'stockton' 'space coast' 'austin' 'st augustine'\n",
      " 'gainesville' \"spokane / coeur d'alene\" 'columbus' 'salt lake city'\n",
      " 'los angeles' 'kansas city, MO' 'akron / canton' 'corpus christi'\n",
      " 'reno / tahoe' 'fresno / madera' 'hilton head' 'florida keys' 'lansing'\n",
      " 'western massachusetts' 'north jersey' 'wenatchee' 'frederick'\n",
      " 'heartland florida' 'waco' 'columbia' 'eastern shore' 'eastern NC'\n",
      " 'battle creek' 'detroit metro' 'lancaster' 'muskegon'\n",
      " 'fort collins / north CO' 'gold country' 'kennewick-pasco-richland'\n",
      " 'tucson' 'manhattan' 'south florida' 'savannah / hinesville' 'portland'\n",
      " 'reading' 'southern maryland' 'northwest KS' 'atlanta' 'greensboro'\n",
      " 'wilmington' 'gulfport / biloxi' 'cleveland' 'lawrence' 'monterey bay'\n",
      " 'greenville / upstate' 'fayetteville' 'harrisburg' 'tri-cities' 'modesto'\n",
      " 'utica-rome-oneida' 'boulder' 'philadelphia' 'baton rouge' 'east idaho'\n",
      " 'binghamton' 'macon / warner robins' 'charleston' 'denver' 'jonesboro'\n",
      " 'sacramento' 'lubbock' 'bend' 'ogden-clearfield'\n",
      " 'killeen / temple / ft hood' 'cincinnati' 'orange county'\n",
      " 'sioux falls / SE SD' 'cedar rapids' 'beaumont / port arthur' 'amarillo'\n",
      " 'ft myers / SW florida' 'visalia-tulare' 'boston'\n",
      " 'saginaw-midland-baycity' 'tallahassee' 'iowa city' 'houston'\n",
      " 'raleigh / durham / CH' 'tyler / east TX' 'erie' 'holland'\n",
      " 'state college' 'chattanooga' 'oklahoma city' 'buffalo' 'montgomery'\n",
      " 'birmingham' 'jersey shore' 'mansfield' 'pittsburgh' 'charlottesville'\n",
      " 'sierra vista' 'lexington' 'richmond' 'bellingham' 'northern michigan'\n",
      " 'glens falls' 'ames' 'fargo / moorhead' 'ann arbor' 'auburn' 'el paso'\n",
      " 'sioux city' 'new york city' 'high rockies' 'kalamazoo'\n",
      " 'corvallis/albany' 'winchester' 'logan' 'houma' 'yuma' 'hanford-corcoran'\n",
      " 'syracuse' 'tuscaloosa' 'western slope' 'western KY' 'finger lakes'\n",
      " 'fort dodge' 'lawton' 'santa maria' 'victoria' 'cape cod / islands'\n",
      " 'santa barbara' 'elmira-corning' 'lehigh valley' 'youngstown' 'st george'\n",
      " 'clarksville' 'chico' 'outer banks' 'oneonta' 'catskills'\n",
      " 'southwest michigan' 'florence' 'knoxville' 'altoona-johnstown'\n",
      " 'hudson valley' 'flagstaff / sedona' 'san luis obispo'\n",
      " 'lewiston / clarkston' 'gadsden-anniston' 'plattsburgh-adirondacks'\n",
      " 'fort smith' 'texarkana' 'northwest OK' 'ocala' 'moses lake' 'pueblo'\n",
      " 'mohave county' 'yakima' 'lynchburg' 'valdosta' 'waterloo / cedar falls'\n",
      " 'medford-ashland' 'show low' 'southeast missouri' 'imperial county'\n",
      " 'joplin' 'poconos' 'meridian' 'brownsville' 'western maryland' 'mankato'\n",
      " 'hattiesburg' 'duluth / superior' 'skagit / island / SJI' 'mason city'\n",
      " 'humboldt county' 'harrisonburg' 'roseburg' 'port huron' 'brainerd'\n",
      " 'southwest VA' 'southern WV' 'zanesville / cambridge' 'dothan' 'ithaca'\n",
      " 'upper peninsula' 'meadville' 'merced' 'pullman / moscow' 'watertown'\n",
      " 'southeast KS' 'tuscarawas co' 'potsdam-canton-massena'\n",
      " 'northern panhandle' 'southwest MS' 'morgantown' 'redding'\n",
      " 'new river valley' 'danville' 'olympic peninsula' 'deep east texas'\n",
      " 'lake charles' 'yuba-sutter' 'laredo' 'bemidji'\n",
      " 'florence / muscle shoals' 'kirksville' 'north central FL' 'brunswick'\n",
      " 'lake of the ozarks' 'boone' 'klamath falls' 'eastern kentucky'\n",
      " 'southwest MN' 'statesboro' 'cookeville' 'oregon coast'\n",
      " 'huntington-ashland' 'salina' 'anchorage / mat-su' 'hickory / lenoir'\n",
      " 'parkersburg-marietta' 'east oregon' 'lima / findlay' 'dubuque'\n",
      " 'siskiyou county' 'sandusky' 'chillicothe' 'chautauqua'\n",
      " 'central louisiana' 'west virginia (old)' 'pierre / central SD'\n",
      " 'st joseph' 'san angelo' 'eastern CO' 'the thumb' 'owensboro'\n",
      " 'mendocino county' 'del rio / eagle pass' 'southwest KS' 'southeast IA'\n",
      " 'susanville' 'twin tiers NY/PA' 'southwest TX' 'northeast SD'\n",
      " 'south dakota' 'ashtabula' 'st louis' 'fort smith, AR' 'southeast alaska'\n",
      " 'south bend / michiana' 'kansas city']\n",
      "Unique values in 'region_url' column: ['https://boise.craigslist.org' 'https://cosprings.craigslist.org'\n",
      " 'https://norfolk.craigslist.org' 'https://phoenix.craigslist.org'\n",
      " 'https://nashville.craigslist.org' 'https://dallas.craigslist.org'\n",
      " 'https://worcester.craigslist.org' 'https://wichita.craigslist.org'\n",
      " 'https://scranton.craigslist.org' 'https://maine.craigslist.org'\n",
      " 'https://southcoast.craigslist.org' 'https://northmiss.craigslist.org'\n",
      " 'https://abilene.craigslist.org' 'https://neworleans.craigslist.org'\n",
      " 'https://rmn.craigslist.org' 'https://louisville.craigslist.org'\n",
      " 'https://seattle.craigslist.org' 'https://huntsville.craigslist.org'\n",
      " 'https://ventura.craigslist.org' 'https://augusta.craigslist.org'\n",
      " 'https://charlotte.craigslist.org' 'https://roanoke.craigslist.org'\n",
      " 'https://chambersburg.craigslist.org' 'https://omaha.craigslist.org'\n",
      " 'https://sarasota.craigslist.org' 'https://sanmarcos.craigslist.org'\n",
      " 'https://albanyga.craigslist.org' 'https://tampa.craigslist.org'\n",
      " 'https://inlandempire.craigslist.org' 'https://salem.craigslist.org'\n",
      " 'https://littlerock.craigslist.org' 'https://prescott.craigslist.org'\n",
      " 'https://cnj.craigslist.org' 'https://lakeland.craigslist.org'\n",
      " 'https://provo.craigslist.org' 'https://martinsburg.craigslist.org'\n",
      " 'https://athensga.craigslist.org' 'https://lafayette.craigslist.org'\n",
      " 'https://asheville.craigslist.org' 'https://albany.craigslist.org'\n",
      " 'https://stcloud.craigslist.org' 'https://myrtlebeach.craigslist.org'\n",
      " 'https://odessa.craigslist.org' 'https://treasure.craigslist.org'\n",
      " 'https://wichitafalls.craigslist.org' 'https://topeka.craigslist.org'\n",
      " 'https://shreveport.craigslist.org' 'https://okaloosa.craigslist.org'\n",
      " 'https://dayton.craigslist.org' 'https://collegestation.craigslist.org'\n",
      " 'https://panamacity.craigslist.org' 'https://sfbay.craigslist.org'\n",
      " 'https://bgky.craigslist.org' 'https://fredericksburg.craigslist.org'\n",
      " 'https://springfield.craigslist.org' 'https://columbiamo.craigslist.org'\n",
      " 'https://flint.craigslist.org' 'https://monroe.craigslist.org'\n",
      " 'https://eugene.craigslist.org' 'https://centralmich.craigslist.org'\n",
      " 'https://toledo.craigslist.org' 'https://sandiego.craigslist.org'\n",
      " 'https://mobile.craigslist.org' 'https://winstonsalem.craigslist.org'\n",
      " 'https://rapidcity.craigslist.org' 'https://tulsa.craigslist.org'\n",
      " 'https://desmoines.craigslist.org' 'https://york.craigslist.org'\n",
      " 'https://jacksonville.craigslist.org' 'https://orlando.craigslist.org'\n",
      " 'https://bakersfield.craigslist.org' 'https://palmsprings.craigslist.org'\n",
      " 'https://sanantonio.craigslist.org' 'https://jacksontn.craigslist.org'\n",
      " 'https://galveston.craigslist.org' 'https://memphis.craigslist.org'\n",
      " 'https://mcallen.craigslist.org' 'https://southjersey.craigslist.org'\n",
      " 'https://twinfalls.craigslist.org' 'https://annapolis.craigslist.org'\n",
      " 'https://stillwater.craigslist.org' 'https://texoma.craigslist.org'\n",
      " 'https://minneapolis.craigslist.org' 'https://pensacola.craigslist.org'\n",
      " 'https://nwga.craigslist.org' 'https://longisland.craigslist.org'\n",
      " 'https://baltimore.craigslist.org' 'https://daytona.craigslist.org'\n",
      " 'https://grandrapids.craigslist.org'\n",
      " 'https://williamsport.craigslist.org' 'https://stockton.craigslist.org'\n",
      " 'https://spacecoast.craigslist.org' 'https://austin.craigslist.org'\n",
      " 'https://staugustine.craigslist.org' 'https://gainesville.craigslist.org'\n",
      " 'https://spokane.craigslist.org' 'https://columbus.craigslist.org'\n",
      " 'https://saltlakecity.craigslist.org' 'https://losangeles.craigslist.org'\n",
      " 'https://kansascity.craigslist.org' 'https://akroncanton.craigslist.org'\n",
      " 'https://corpuschristi.craigslist.org' 'https://reno.craigslist.org'\n",
      " 'https://jackson.craigslist.org' 'https://fresno.craigslist.org'\n",
      " 'https://hiltonhead.craigslist.org' 'https://keys.craigslist.org'\n",
      " 'https://lansing.craigslist.org' 'https://westernmass.craigslist.org'\n",
      " 'https://newjersey.craigslist.org' 'https://wenatchee.craigslist.org'\n",
      " 'https://frederick.craigslist.org' 'https://cfl.craigslist.org'\n",
      " 'https://waco.craigslist.org' 'https://columbia.craigslist.org'\n",
      " 'https://easternshore.craigslist.org' 'https://eastnc.craigslist.org'\n",
      " 'https://battlecreek.craigslist.org' 'https://detroit.craigslist.org'\n",
      " 'https://lancaster.craigslist.org' 'https://muskegon.craigslist.org'\n",
      " 'https://fortcollins.craigslist.org' 'https://goldcountry.craigslist.org'\n",
      " 'https://kpr.craigslist.org' 'https://tucson.craigslist.org'\n",
      " 'https://ksu.craigslist.org' 'https://miami.craigslist.org'\n",
      " 'https://savannah.craigslist.org' 'https://portland.craigslist.org'\n",
      " 'https://reading.craigslist.org' 'https://smd.craigslist.org'\n",
      " 'https://nwks.craigslist.org' 'https://atlanta.craigslist.org'\n",
      " 'https://greensboro.craigslist.org' 'https://wilmington.craigslist.org'\n",
      " 'https://gulfport.craigslist.org' 'https://cleveland.craigslist.org'\n",
      " 'https://lawrence.craigslist.org' 'https://monterey.craigslist.org'\n",
      " 'https://greenville.craigslist.org' 'https://fayetteville.craigslist.org'\n",
      " 'https://harrisburg.craigslist.org' 'https://tricities.craigslist.org'\n",
      " 'https://modesto.craigslist.org' 'https://utica.craigslist.org'\n",
      " 'https://boulder.craigslist.org' 'https://philadelphia.craigslist.org'\n",
      " 'https://batonrouge.craigslist.org' 'https://eastidaho.craigslist.org'\n",
      " 'https://columbusga.craigslist.org' 'https://binghamton.craigslist.org'\n",
      " 'https://macon.craigslist.org' 'https://charleston.craigslist.org'\n",
      " 'https://denver.craigslist.org' 'https://jonesboro.craigslist.org'\n",
      " 'https://sacramento.craigslist.org' 'https://lubbock.craigslist.org'\n",
      " 'https://bend.craigslist.org' 'https://ogden.craigslist.org'\n",
      " 'https://killeen.craigslist.org' 'https://cincinnati.craigslist.org'\n",
      " 'https://orangecounty.craigslist.org' 'https://siouxfalls.craigslist.org'\n",
      " 'https://rochester.craigslist.org' 'https://cedarrapids.craigslist.org'\n",
      " 'https://beaumont.craigslist.org' 'https://amarillo.craigslist.org'\n",
      " 'https://fortmyers.craigslist.org' 'https://visalia.craigslist.org'\n",
      " 'https://boston.craigslist.org' 'https://saginaw.craigslist.org'\n",
      " 'https://tallahassee.craigslist.org' 'https://iowacity.craigslist.org'\n",
      " 'https://houston.craigslist.org' 'https://raleigh.craigslist.org'\n",
      " 'https://easttexas.craigslist.org' 'https://erie.craigslist.org'\n",
      " 'https://holland.craigslist.org' 'https://pennstate.craigslist.org'\n",
      " 'https://chattanooga.craigslist.org'\n",
      " 'https://oklahomacity.craigslist.org' 'https://buffalo.craigslist.org'\n",
      " 'https://montgomery.craigslist.org' 'https://bham.craigslist.org'\n",
      " 'https://jerseyshore.craigslist.org' 'https://mansfield.craigslist.org'\n",
      " 'https://pittsburgh.craigslist.org'\n",
      " 'https://charlottesville.craigslist.org'\n",
      " 'https://sierravista.craigslist.org' 'https://lexington.craigslist.org'\n",
      " 'https://richmond.craigslist.org' 'https://bellingham.craigslist.org'\n",
      " 'https://nmi.craigslist.org' 'https://glensfalls.craigslist.org'\n",
      " 'https://ames.craigslist.org' 'https://fargo.craigslist.org'\n",
      " 'https://annarbor.craigslist.org' 'https://auburn.craigslist.org'\n",
      " 'https://elpaso.craigslist.org' 'https://charlestonwv.craigslist.org'\n",
      " 'https://fayar.craigslist.org' 'https://siouxcity.craigslist.org'\n",
      " 'https://newyork.craigslist.org' 'https://rockies.craigslist.org'\n",
      " 'https://kalamazoo.craigslist.org' 'https://onslow.craigslist.org'\n",
      " 'https://corvallis.craigslist.org' 'https://winchester.craigslist.org'\n",
      " 'https://logan.craigslist.org' 'https://houma.craigslist.org'\n",
      " 'https://yuma.craigslist.org' 'https://hanford.craigslist.org'\n",
      " 'https://syracuse.craigslist.org' 'https://tuscaloosa.craigslist.org'\n",
      " 'https://monroemi.craigslist.org' 'https://westslope.craigslist.org'\n",
      " 'https://westky.craigslist.org' 'https://fingerlakes.craigslist.org'\n",
      " 'https://fortdodge.craigslist.org' 'https://lawton.craigslist.org'\n",
      " 'https://santamaria.craigslist.org' 'https://victoriatx.craigslist.org'\n",
      " 'https://capecod.craigslist.org' 'https://santabarbara.craigslist.org'\n",
      " 'https://elmira.craigslist.org' 'https://allentown.craigslist.org'\n",
      " 'https://youngstown.craigslist.org' 'https://stgeorge.craigslist.org'\n",
      " 'https://clarksville.craigslist.org' 'https://chico.craigslist.org'\n",
      " 'https://outerbanks.craigslist.org' 'https://oneonta.craigslist.org'\n",
      " 'https://catskills.craigslist.org' 'https://swmi.craigslist.org'\n",
      " 'https://florencesc.craigslist.org' 'https://knoxville.craigslist.org'\n",
      " 'https://altoona.craigslist.org' 'https://hudsonvalley.craigslist.org'\n",
      " 'https://flagstaff.craigslist.org' 'https://slo.craigslist.org'\n",
      " 'https://lewiston.craigslist.org' 'https://gadsden.craigslist.org'\n",
      " 'https://plattsburgh.craigslist.org' 'https://fortsmith.craigslist.org'\n",
      " 'https://texarkana.craigslist.org' 'https://enid.craigslist.org'\n",
      " 'https://ocala.craigslist.org' 'https://moseslake.craigslist.org'\n",
      " 'https://pueblo.craigslist.org' 'https://mohave.craigslist.org'\n",
      " 'https://yakima.craigslist.org' 'https://lynchburg.craigslist.org'\n",
      " 'https://valdosta.craigslist.org' 'https://waterloo.craigslist.org'\n",
      " 'https://medford.craigslist.org' 'https://showlow.craigslist.org'\n",
      " 'https://semo.craigslist.org' 'https://imperial.craigslist.org'\n",
      " 'https://joplin.craigslist.org' 'https://poconos.craigslist.org'\n",
      " 'https://meridian.craigslist.org' 'https://brownsville.craigslist.org'\n",
      " 'https://westmd.craigslist.org' 'https://mankato.craigslist.org'\n",
      " 'https://jxn.craigslist.org' 'https://hattiesburg.craigslist.org'\n",
      " 'https://duluth.craigslist.org' 'https://skagit.craigslist.org'\n",
      " 'https://masoncity.craigslist.org' 'https://humboldt.craigslist.org'\n",
      " 'https://harrisonburg.craigslist.org' 'https://roseburg.craigslist.org'\n",
      " 'https://porthuron.craigslist.org' 'https://brainerd.craigslist.org'\n",
      " 'https://swva.craigslist.org' 'https://swv.craigslist.org'\n",
      " 'https://zanesville.craigslist.org' 'https://dothan.craigslist.org'\n",
      " 'https://ithaca.craigslist.org' 'https://up.craigslist.org'\n",
      " 'https://meadville.craigslist.org' 'https://merced.craigslist.org'\n",
      " 'https://pullman.craigslist.org' 'https://watertown.craigslist.org'\n",
      " 'https://seks.craigslist.org' 'https://tuscarawas.craigslist.org'\n",
      " 'https://potsdam.craigslist.org' 'https://wheeling.craigslist.org'\n",
      " 'https://natchez.craigslist.org' 'https://morgantown.craigslist.org'\n",
      " 'https://redding.craigslist.org' 'https://blacksburg.craigslist.org'\n",
      " 'https://danville.craigslist.org' 'https://olympic.craigslist.org'\n",
      " 'https://nacogdoches.craigslist.org' 'https://lakecharles.craigslist.org'\n",
      " 'https://yubasutter.craigslist.org' 'https://laredo.craigslist.org'\n",
      " 'https://bemidji.craigslist.org' 'https://shoals.craigslist.org'\n",
      " 'https://kirksville.craigslist.org' 'https://lakecity.craigslist.org'\n",
      " 'https://brunswick.craigslist.org' 'https://loz.craigslist.org'\n",
      " 'https://boone.craigslist.org' 'https://klamath.craigslist.org'\n",
      " 'https://eastky.craigslist.org' 'https://marshall.craigslist.org'\n",
      " 'https://statesboro.craigslist.org' 'https://cookeville.craigslist.org'\n",
      " 'https://oregoncoast.craigslist.org' 'https://huntington.craigslist.org'\n",
      " 'https://salina.craigslist.org' 'https://anchorage.craigslist.org'\n",
      " 'https://hickory.craigslist.org' 'https://parkersburg.craigslist.org'\n",
      " 'https://eastoregon.craigslist.org' 'https://limaohio.craigslist.org'\n",
      " 'https://dubuque.craigslist.org' 'https://siskiyou.craigslist.org'\n",
      " 'https://sandusky.craigslist.org' 'https://chillicothe.craigslist.org'\n",
      " 'https://chautauqua.craigslist.org' 'https://cenla.craigslist.org'\n",
      " 'https://wv.craigslist.org' 'https://csd.craigslist.org'\n",
      " 'https://stjoseph.craigslist.org' 'https://sanangelo.craigslist.org'\n",
      " 'https://eastco.craigslist.org' 'https://thumb.craigslist.org'\n",
      " 'https://owensboro.craigslist.org' 'https://mendocino.craigslist.org'\n",
      " 'https://delrio.craigslist.org' 'https://swks.craigslist.org'\n",
      " 'https://athensohio.craigslist.org' 'https://ottumwa.craigslist.org'\n",
      " 'https://susanville.craigslist.org' 'https://twintiers.craigslist.org'\n",
      " 'https://bigbend.craigslist.org' 'https://nesd.craigslist.org'\n",
      " 'https://sd.craigslist.org' 'https://ashtabula.craigslist.org'\n",
      " 'https://stlouis.craigslist.org' 'https://juneau.craigslist.org'\n",
      " 'https://southbend.craigslist.org']\n",
      "Unique values in 'price' column: [1350 1115 1129 ... 4756 3221 5015]\n",
      "Unique values in 'type' column: ['house' 'apartment' 'duplex' 'loft' 'condo' 'manufactured' 'townhouse'\n",
      " 'in-law' 'flat' 'cottage/cabin' 'assisted living' 'land']\n",
      "Unique values in 'sqfeet' column: [1200  694  900 ... 5416 3423 3516]\n",
      "Unique values in 'beds' column: [   2    1    3    5    4    0    6    8    7 1000]\n",
      "Unique values in 'baths' column: [ 2.   1.   1.5  2.5  0.   3.5  4.   3.   4.5  5.   5.5  7.   6.  25.\n",
      "  6.5  7.5 35.   8.   8.5]\n",
      "Unique values in 'cats_allowed' column: [1 0]\n",
      "Unique values in 'dogs_allowed' column: [1 0]\n",
      "Unique values in 'smoking_allowed' column: [1 0]\n",
      "Unique values in 'wheelchair_access' column: [0 1]\n",
      "Unique values in 'electric_vehicle_charge' column: [0 1]\n",
      "Unique values in 'comes_furnished' column: [0 1]\n",
      "Unique values in 'laundry_options' column: ['w/d in unit' 'w/d hookups' 'laundry on site' 'unknown' 'laundry in bldg'\n",
      " 'no laundry on site']\n",
      "Unique values in 'parking_options' column: ['detached garage' 'carport' 'off-street parking' 'unknown'\n",
      " 'attached garage' 'street parking' 'no parking' 'valet parking']\n",
      "Unique values in 'image_url' column: ['https://images.craigslist.org/00B0B_cPiJMEheZe2_600x450.jpg'\n",
      " 'https://images.craigslist.org/00R0R_5XAoSKvfrz1_600x450.jpg'\n",
      " 'https://images.craigslist.org/00f0f_3ZbTFrsHpZ2_600x450.jpg' ...\n",
      " 'https://images.craigslist.org/00P0P_egXeeJ2jURo_600x450.jpg'\n",
      " 'https://images.craigslist.org/00O0O_6QsU4p5WMhO_600x450.jpg'\n",
      " 'https://images.craigslist.org/00w0w_7irvBxq409N_600x450.jpg']\n",
      "Unique values in 'description' column: ['Super cute row house in the Boise bench area.  2 bed/2 Bath, open floor plan.  Detached 2 car garage, fenced backyard/patio.  Awesome location, easy to drive or bike to downtown, the green belt or jump on the freeway and easily get anywhere! New flooring and paint throughout and lots of natural light gives a fresh look and feel. Central Air and Natural Gas furnace. Front Load high efficiency Washer & Dryer are included.      $1350 Rent includes Water-Sewer-Trash.   $1000 Security Deposit    Small to Medium sized pets negotiable with additional pet fee.    Lawn care available at a reasonable rate .'\n",
      " 'Windtree Apartment Homes currently has a spacious one bedroom apartment home available TODAY! One bedroom apartment homes at Windtree offer an abundance of storage spaces, full-size washers and dryers and spacious patio areas.  Take a swim in our glistening, seasonal pool or relax in our year-round hot tub after working a sweat in our 24 hour, 7 day a week fitness center. Live within a naturistic community in a centralized location next door to a 13 acre park, shopping centers and grocery stores.  Set up an appointment to tour with us today or apply online at www.windtreeapartmenthomes.com with apartment #29B to call this home yours.   *Important Requirements* -Monthly gross income must equal 3 times the monthly rent. If more than one applicant is applying the -income will be combined.  -Any person residing in the apartment that is 18 years of age or older must apply.  -Each person applying must pay the non-refundable application fee. -Credit and Criminal requirements apply. All applicants 18 or older undergo a credit and criminal screening. https://colorado.weidner.com/apartments/co/colorado-springs/windtree/'\n",
      " \"Call Today!  show contact info   Indian Lakes Prices start at $1129/month!  Stop Looking & Start Living!  Indian Lakes is a pet-friendly community offering delightful 1 & 2 bedroom townhomes and spacious apartment homes. At Indian Lakes, you'll enjoy living in a community filled with an unrivaled style that provides spacious interiors and modern designs in a wonderful setting. Residents also enjoy two resort-style swimming pools with sun decks, a business center, and a 24-Hour Fitness Facility â\\x80¦ plus much, much more! Coming home is the best part of the day when you live at Indian Lakes!Wonderful Amenities!+ Extra Storage+ Fireplace+ New/Renovated Interior+ Patio or Balcony+ Extra Storage+ Pool+ Courtyard+ Fitness Center+ Pet Park+ Planned Community Activities+ Dog Run+ Grill+ Community/Onsite Parking+ Community Laundry Room+ 24 hour Fitness Center+ Bark Park+ Car Wash Station+ Washer/Dryer in Select Units+ 2 Resort Style Swimming Pools+ 24 hour Laundry Center+ Fully Equipped Kitchen  show contact info 1601 Hiawatha Drive Virginia Beach, VA 23464   Website: www.indianlakesapts.comPet Policy: Cat(s);Dog(s);We welcome residents with pets of any size. $300.00 non refundable fee for one pet $500.00 non refundable for two. $20.00 pet rent per pet per month. Breed Restrictions apply.EQUAL HOUSING OPPORTUNITY\"\n",
      " ...\n",
      " \"PROPERTY INFO ID: 184600979Rent: 3155 / MonthBeds: 1Bath: 1Available Date: NOWPet: No PetsRent Includes:: Heat, Hot Water Newly renovated Brookline 1 bed on Auburn Street right in between Coolidge Corner & Brookline Village. Amazing location close to shopping, dining, public transportation and easy access to Longwood Medical Area. Unit features hardwood floors, renovated kitchen w/ dishwasher, spacious layout and laundry in unit!  Heat & hot water included in monthly rent!  NO BROKER FEE & security deposit is negotiable.  Call or email Jenna for more details! 978-504-1490 jenna @ benjaminapartments.com  Bus: 60, Walnut St @ High St (0.53 mi) Tram: D, Brookline Hills (0.48 mi) Bus: Green Line D Shuttle, Brookline Hills (0.47 mi) Bus: 66, Harvard St @ Harris St (0.08 mi) Bus: 51, Tappan St @ Greenough St (0.49 mi) Bus: 65, Washington St @ Gardner Path (0.18 mi) Tram: C, Summit Avenue (0.27 mi)   FEATURESA/CGranite Counter TopsHardwood FloorsLaundry in UnitNew/Renovated BathNew/Renovated KitchenStainless Steel Appliance(s)  Jenna DeLuca of Benjamin Apartments & Cityside Homes Real Estate Professional & Rental Manager 978-504-1490  Search Boston's largest selection of apartments at www.benjaminapartments.com   Benjamin Apartments LLC makes a good faith effort to post accurate photographs and descriptions of the apartments listed for rent, but because the information is supplied by third parties and is not independently verified, we cannot always guarantee its accuracy.  Rental rates, listing information and availability are subject to error and change, and listed rates may be lower than actual rates due to incentives offered by landlords. Additionally, the apartment advertised may no longer be available for rental.\"\n",
      " 'Seize your chance to live in our beautiful apartment community in Chula Vista, California. Picture coming home every day to the warm embrace of meticulous landscaping, comfortable homes, and thoughtful amenities tailored to enhance your life. Located in , Chula Vista, with easy access to I-805 and Highway 205, Canyon Villa Apartment Homes is just minutes away from Aquatica San Diego, as well as all of the shopping, dining, and entertainment that nearby downtown San Diego has to offer. (+more) Canyon Villa Apartment Homes provides its residents a wide selection of unique one, two, or three bedroom apartment homes that feature exclusive community and household amenities like a picturesque pool, outdoor BBQ area, and a fitness center. Come wiggle your toes in our picturesque pool, stroll through our pet-friendly community with your favorite furry companion, or have a day out on the town in nearby downtown San Diego. We know you deserve the very best in apartment living, and our community is designed specifically to ensure you donâ\\x80\\x99t just lease, you live. Go look at our photo gallery and schedule your appointment, or drop by and visit us for your personal tour today! Vibrant Chula Vista, CA Apartment Living  -Dog Park -Business Center w/ WiFi -Fitness Center -Outdoor BBQ area -Garages and Carports Available -Poolside WiFi -Sparkling Pool  Call:  show contact info   Equal Housing Opportunity Prices Change Daily Flexible Lease Terms'\n",
      " \"Description   Huge spacious 2 bedroom.  Beautiful hardwood flooring throughout.  Ceramic tile kitchen/bath.  2 fireplaces (living room and dining room).  Brand new sleek black kitchen appliances.  Crystal LED lighting.  Bluetooth (music) ceiling fan with retractable blades.  In-unit washer/dryer.  Brand new video intercom system.  Amazing park views.  New windows.  New furnace.  Gated off street parking available.  In the heart of Buffalo's historic Allentown District.  A short drive from downtown.  A short walk from public transportation, restaurants, shopping, nightlife - everything.  $1300 www.days-park.com  show contact info  Discover one of the many treasures in the heart of downtown Buffalo, NY. Days Park Commons offers fine living with many features that enhance your surroundings. Living at Days Park Commons is an experience that is truly uncommon. Nestled in the greenery of one of the original Frederick Law Olmsted parks, you'll find the outdoors as unique as the individually distinctive indoors. Days Park Commons is located in the Historic Allentown district close to convenient and eclectic shopping and vibrant nightlife. In the summer, you'll be steps away from the best Buffalo festivals. Year-round, it's the place to be.   Features     Cable ready     Hardwood floors     Refrigerator     Laundry room / hookups     Fireplace     Oven / range        Laundry room     Parking     Storage units\"]\n",
      "Unique values in 'lat' column: [43.5851 38.9137 36.7922 ... 35.1732 42.507  42.8997]\n",
      "Unique values in 'long' column: [-116.225  -104.78    -76.1643 ...  -81.6292  -85.3338  -70.8932]\n",
      "Unique values in 'state' column: ['id' 'co' 'va' 'az' 'tn' 'tx' 'ma' 'ks' 'pa' 'me' 'ms' 'la' 'mn' 'ky'\n",
      " 'wa' 'al' 'ca' 'ga' 'nc' 'md' 'ia' 'fl' 'or' 'ar' 'nj' 'ut' 'wv' 'ny'\n",
      " 'sc' 'oh' 'mo' 'mi' 'sd' 'ok' 'ak']\n",
      "Unique values in 'price_scale' column: [0 1]\n"
     ]
    }
   ],
   "source": [
    "for col in df.columns:\n",
    "    print(\"Unique values in '{}' column: {}\".format(col, df[col].unique()))\n"
   ]
  },
  {
   "attachments": {},
   "cell_type": "markdown",
   "metadata": {},
   "source": [
    "# Heatmap"
   ]
  },
  {
   "attachments": {},
   "cell_type": "markdown",
   "metadata": {},
   "source": [
    "# Create a heatmap of the DataFrame"
   ]
  },
  {
   "cell_type": "code",
   "execution_count": 63,
   "metadata": {},
   "outputs": [
    {
     "name": "stderr",
     "output_type": "stream",
     "text": [
      "C:\\Users\\miauchis\\AppData\\Local\\Temp\\ipykernel_8484\\621126171.py:1: FutureWarning: The default value of numeric_only in DataFrame.corr is deprecated. In a future version, it will default to False. Select only valid columns or specify the value of numeric_only to silence this warning.\n",
      "  sns.heatmap(df.corr(), annot=True)\n"
     ]
    },
    {
     "data": {
      "text/plain": [
       "<AxesSubplot: >"
      ]
     },
     "execution_count": 63,
     "metadata": {},
     "output_type": "execute_result"
    },
    {
     "data": {
      "image/png": "[encoded data removed]",
      "text/plain": [
       "<Figure size 640x480 with 2 Axes>"
      ]
     },
     "metadata": {},
     "output_type": "display_data"
    }
   ],
   "source": [
    "sns.heatmap(df.corr(), annot=True)"
   ]
  },
  {
   "attachments": {},
   "cell_type": "markdown",
   "metadata": {},
   "source": [
    "# Categorical colums into numericals"
   ]
  },
  {
   "cell_type": "code",
   "execution_count": 64,
   "metadata": {},
   "outputs": [],
   "source": [
    "df['url_encoded'] = pd.factorize(df['url'])[0]\n",
    "df['region_encoded'] = pd.factorize(df['region'])[0]\n",
    "df['region_url_encoded'] = pd.factorize(df['region_url'])[0]\n",
    "df['type_encoded'] = pd.factorize(df['type'])[0]\n",
    "df['laundry_options_encoded'] = pd.factorize(df['laundry_options'])[0]\n",
    "df['parking_options_encoded'] = pd.factorize(df['parking_options'])[0]\n",
    "df['image_url_encoded'] = pd.factorize(df['image_url'])[0]\n",
    "df['state_encoded'] = pd.factorize(df['state'])[0]"
   ]
  },
  {
   "attachments": {},
   "cell_type": "markdown",
   "metadata": {},
   "source": [
    "# Anothe Heatmap"
   ]
  },
  {
   "cell_type": "code",
   "execution_count": 65,
   "metadata": {},
   "outputs": [
    {
     "name": "stderr",
     "output_type": "stream",
     "text": [
      "C:\\Users\\miauchis\\AppData\\Local\\Temp\\ipykernel_8484\\4262471806.py:1: FutureWarning: The default value of numeric_only in DataFrame.corr is deprecated. In a future version, it will default to False. Select only valid columns or specify the value of numeric_only to silence this warning.\n",
      "  sns.heatmap(df.corr(), annot=True, annot_kws={\"size\": 5}, fmt='.2f')\n"
     ]
    },
    {
     "data": {
      "text/plain": [
       "<AxesSubplot: >"
      ]
     },
     "execution_count": 65,
     "metadata": {},
     "output_type": "execute_result"
    },
    {
     "data": {
      "image/png": "[encoded data removed]",
      "text/plain": [
       "<Figure size 640x480 with 2 Axes>"
      ]
     },
     "metadata": {},
     "output_type": "display_data"
    }
   ],
   "source": [
    "sns.heatmap(df.corr(), annot=True, annot_kws={\"size\": 5}, fmt='.2f')\n"
   ]
  },
  {
   "attachments": {},
   "cell_type": "markdown",
   "metadata": {},
   "source": [
    "# Correlation matrix for \"price_scale\" column"
   ]
  },
  {
   "cell_type": "code",
   "execution_count": 66,
   "metadata": {},
   "outputs": [
    {
     "name": "stdout",
     "output_type": "stream",
     "text": [
      "id                        -0.133181\n",
      "price                     -0.002353\n",
      "sqfeet                    -0.002221\n",
      "beds                      -0.036838\n",
      "baths                     -0.231864\n",
      "cats_allowed               0.008237\n",
      "dogs_allowed              -0.003425\n",
      "smoking_allowed            0.129589\n",
      "wheelchair_access         -0.041756\n",
      "electric_vehicle_charge   -0.065503\n",
      "comes_furnished            0.012228\n",
      "lat                       -0.046424\n",
      "long                       0.204623\n",
      "price_scale                1.000000\n",
      "url_encoded               -0.039973\n",
      "region_encoded             0.083624\n",
      "region_url_encoded         0.096564\n",
      "type_encoded              -0.016080\n",
      "laundry_options_encoded    0.230997\n",
      "parking_options_encoded   -0.057888\n",
      "image_url_encoded         -0.039973\n",
      "state_encoded              0.062796\n",
      "Name: price_scale, dtype: float64\n"
     ]
    },
    {
     "name": "stderr",
     "output_type": "stream",
     "text": [
      "C:\\Users\\miauchis\\AppData\\Local\\Temp\\ipykernel_8484\\740878633.py:1: FutureWarning: The default value of numeric_only in DataFrame.corr is deprecated. In a future version, it will default to False. Select only valid columns or specify the value of numeric_only to silence this warning.\n",
      "  corr_matrix = df.corr()\n"
     ]
    }
   ],
   "source": [
    "corr_matrix = df.corr()\n",
    "print(corr_matrix['price_scale'])"
   ]
  },
  {
   "attachments": {},
   "cell_type": "markdown",
   "metadata": {},
   "source": [
    "# Drop unusefull colums"
   ]
  },
  {
   "cell_type": "code",
   "execution_count": 67,
   "metadata": {},
   "outputs": [],
   "source": [
    "df = df.drop(columns=['id', 'state', 'parking_options', 'laundry_options', 'region', 'type', 'url_encoded', 'url', 'region_url_encoded', 'region_url', 'price', 'image_url_encoded', 'image_url', 'description'])"
   ]
  },
  {
   "attachments": {},
   "cell_type": "markdown",
   "metadata": {},
   "source": [
    "# Display df info"
   ]
  },
  {
   "cell_type": "code",
   "execution_count": 68,
   "metadata": {},
   "outputs": [
    {
     "name": "stdout",
     "output_type": "stream",
     "text": [
      "<class 'pandas.core.frame.DataFrame'>\n",
      "Int64Index: 141846 entries, 0 to 346478\n",
      "Data columns (total 17 columns):\n",
      " #   Column                   Non-Null Count   Dtype  \n",
      "---  ------                   --------------   -----  \n",
      " 0   sqfeet                   141846 non-null  int64  \n",
      " 1   beds                     141846 non-null  int64  \n",
      " 2   baths                    141846 non-null  float64\n",
      " 3   cats_allowed             141846 non-null  int64  \n",
      " 4   dogs_allowed             141846 non-null  int64  \n",
      " 5   smoking_allowed          141846 non-null  int64  \n",
      " 6   wheelchair_access        141846 non-null  int64  \n",
      " 7   electric_vehicle_charge  141846 non-null  int64  \n",
      " 8   comes_furnished          141846 non-null  int64  \n",
      " 9   lat                      141846 non-null  float64\n",
      " 10  long                     141846 non-null  float64\n",
      " 11  price_scale              141846 non-null  int64  \n",
      " 12  region_encoded           141846 non-null  int64  \n",
      " 13  type_encoded             141846 non-null  int64  \n",
      " 14  laundry_options_encoded  141846 non-null  int64  \n",
      " 15  parking_options_encoded  141846 non-null  int64  \n",
      " 16  state_encoded            141846 non-null  int64  \n",
      "dtypes: float64(3), int64(14)\n",
      "memory usage: 19.5 MB\n"
     ]
    }
   ],
   "source": [
    "df.info()"
   ]
  },
  {
   "attachments": {},
   "cell_type": "markdown",
   "metadata": {},
   "source": [
    "# Save cleaned df as .csv"
   ]
  },
  {
   "cell_type": "code",
   "execution_count": 69,
   "metadata": {},
   "outputs": [],
   "source": [
    "df.to_csv('./clean_files/train_clean.csv', index=False)"
   ]
  },
  {
   "attachments": {},
   "cell_type": "markdown",
   "metadata": {},
   "source": [
    "# Importing test.csv for normalization"
   ]
  },
  {
   "cell_type": "code",
   "execution_count": 70,
   "metadata": {},
   "outputs": [],
   "source": [
    "df_test = pd.read_csv('./Dataset_csv/test.csv')"
   ]
  },
  {
   "attachments": {},
   "cell_type": "markdown",
   "metadata": {},
   "source": [
    "# Categorical colums into numericals for df_test"
   ]
  },
  {
   "cell_type": "code",
   "execution_count": 71,
   "metadata": {},
   "outputs": [],
   "source": [
    "df_test['url_encoded'] = pd.factorize(df_test['url'])[0]\n",
    "df_test['region_encoded'] = pd.factorize(df_test['region'])[0]\n",
    "df_test['region_url_encoded'] = pd.factorize(df_test['region_url'])[0]\n",
    "df_test['type_encoded'] = pd.factorize(df_test['type'])[0]\n",
    "df_test['laundry_options_encoded'] = pd.factorize(df_test['laundry_options'])[0]\n",
    "df_test['parking_options_encoded'] = pd.factorize(df_test['parking_options'])[0]\n",
    "df_test['image_url_encoded'] = pd.factorize(df_test['image_url'])[0]\n",
    "df_test['state_encoded'] = pd.factorize(df_test['state'])[0]"
   ]
  },
  {
   "attachments": {},
   "cell_type": "markdown",
   "metadata": {},
   "source": [
    "# Drop unusefull colums for df_test"
   ]
  },
  {
   "cell_type": "code",
   "execution_count": 72,
   "metadata": {},
   "outputs": [],
   "source": [
    "df_test = df_test.drop(columns=['id', 'state', 'parking_options', 'laundry_options', 'region', 'type', 'url_encoded', 'url', 'region_url_encoded', 'region_url', 'image_url_encoded', 'image_url', 'description'])"
   ]
  },
  {
   "attachments": {},
   "cell_type": "markdown",
   "metadata": {},
   "source": [
    "# Save cleaned df_test as .csv"
   ]
  },
  {
   "cell_type": "code",
   "execution_count": 73,
   "metadata": {},
   "outputs": [],
   "source": [
    "df_test.to_csv('./Clean_files/test_clean.csv', index=False)"
   ]
  }
 ],
 "metadata": {
  "kernelspec": {
   "display_name": "Python 3",
   "language": "python",
   "name": "python3"
  },
  "language_info": {
   "codemirror_mode": {
    "name": "ipython",
    "version": 3
   },
   "file_extension": ".py",
   "mimetype": "text/x-python",
   "name": "python",
   "nbconvert_exporter": "python",
   "pygments_lexer": "ipython3",
   "version": "3.10.8"
  },
  "orig_nbformat": 4,
  "vscode": {
   "interpreter": {
    "hash": "ffda8b6017134b5c6128eec6546762e20742105f4bc29c7c0f871edb66bedab5"
   }
  }
 },
 "nbformat": 4,
 "nbformat_minor": 2
}
